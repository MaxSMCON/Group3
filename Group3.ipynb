{
  "nbformat": 4,
  "nbformat_minor": 0,
  "metadata": {
    "colab": {
      "name": "Group3.ipynb",
      "provenance": [],
      "collapsed_sections": [],
      "include_colab_link": true
    },
    "kernelspec": {
      "name": "python3",
      "display_name": "Python 3"
    },
    "language_info": {
      "name": "python"
    },
    "accelerator": "GPU",
    "gpuClass": "standard"
  },
  "cells": [
    {
      "cell_type": "markdown",
      "metadata": {
        "id": "view-in-github",
        "colab_type": "text"
      },
      "source": [
        "<a href=\"https://colab.research.google.com/github/MaxSMCON/Group3/blob/main/Group3.ipynb\" target=\"_parent\"><img src=\"https://colab.research.google.com/assets/colab-badge.svg\" alt=\"Open In Colab\"/></a>"
      ]
    },
    {
      "cell_type": "code",
      "execution_count": 2,
      "metadata": {
        "id": "0mzec5_B7W1n"
      },
      "outputs": [],
      "source": [
        "# import numpy as np, pandas as pd\n",
        "# import matplotlib.pyplot as plt, seaborn as sns\n",
        "# from tqdm import tqdm\n",
        "# import warnings\n",
        "# # warnings.filterwarnings(\"ignore\")"
      ]
    },
    {
      "cell_type": "markdown",
      "source": [
        "# Spotify Database Exploration\n",
        "\n",
        "### in order to uplod Spatify database from Kaggle you need to download kaggle.json key file. and uplod this into the folder: /content"
      ],
      "metadata": {
        "id": "zXG9J_M1lptP"
      }
    },
    {
      "cell_type": "code",
      "source": [
        "import os\n",
        "\n",
        "os.environ['KAGGLE_CONFIG_DIR'] = '/content'"
      ],
      "metadata": {
        "id": "LORZYwYNpIvA"
      },
      "execution_count": 3,
      "outputs": []
    },
    {
      "cell_type": "code",
      "source": [
        "!kaggle datasets download -d pepepython/spotify-huge-database-daily-charts-over-3-years"
      ],
      "metadata": {
        "colab": {
          "base_uri": "https://localhost:8080/"
        },
        "id": "NYly5kChpjEQ",
        "outputId": "ed99c7b6-926f-4834-cf8f-023ccad9acbb"
      },
      "execution_count": 4,
      "outputs": [
        {
          "output_type": "stream",
          "name": "stdout",
          "text": [
            "Warning: Your Kaggle API key is readable by other users on this system! To fix this, you can run 'chmod 600 /content/kaggle.json'\n",
            "Downloading spotify-huge-database-daily-charts-over-3-years.zip to /content\n",
            " 91% 174M/191M [00:01<00:00, 84.6MB/s]\n",
            "100% 191M/191M [00:01<00:00, 105MB/s] \n"
          ]
        }
      ]
    },
    {
      "cell_type": "code",
      "source": [
        "!unzip \\*.zip && rm *.zip"
      ],
      "metadata": {
        "colab": {
          "base_uri": "https://localhost:8080/"
        },
        "id": "ymQzHWOisyBO",
        "outputId": "04ca2385-5836-4f73-f85b-f53ed436cbbf"
      },
      "execution_count": 5,
      "outputs": [
        {
          "output_type": "stream",
          "name": "stdout",
          "text": [
            "Archive:  spotify-huge-database-daily-charts-over-3-years.zip\n",
            "  inflating: Database to calculate popularity.csv  \n",
            "  inflating: Final database.csv      \n"
          ]
        }
      ]
    },
    {
      "cell_type": "code",
      "source": [
        "import pandas as pd\n",
        "df = pd.read_csv('/content/Final database.csv')"
      ],
      "metadata": {
        "colab": {
          "base_uri": "https://localhost:8080/"
        },
        "id": "wnyP0ydprVAH",
        "outputId": "bd541a0b-5c71-4f2d-90b8-31044ab1d8a5"
      },
      "execution_count": 6,
      "outputs": [
        {
          "output_type": "stream",
          "name": "stderr",
          "text": [
            "/usr/local/lib/python3.7/dist-packages/IPython/core/interactiveshell.py:2882: DtypeWarning: Columns (7,8,11,12,13,14,15,16,17,18,19,20,21,22,23,24,25) have mixed types.Specify dtype option on import or set low_memory=False.\n",
            "  exec(code_obj, self.user_global_ns, self.user_ns)\n"
          ]
        }
      ]
    },
    {
      "cell_type": "code",
      "source": [
        "df.head()"
      ],
      "metadata": {
        "id": "JyihyugWJ0J9",
        "colab": {
          "base_uri": "https://localhost:8080/",
          "height": 490
        },
        "outputId": "9413a752-ba11-47b8-de5f-50b49e9b0af1"
      },
      "execution_count": 7,
      "outputs": [
        {
          "output_type": "execute_result",
          "data": {
            "text/plain": [
              "       Country                                                Uri  Popularity  \\\n",
              "0       Global  https://open.spotify.com/track/6FyRXC8tJUh863J...    31833.95   \n",
              "1          USA  https://open.spotify.com/track/6FyRXC8tJUh863J...        8.00   \n",
              "2    Argentina  https://open.spotify.com/track/6FyRXC8tJUh863J...    76924.40   \n",
              "3      Belgium  https://open.spotify.com/track/6FyRXC8tJUh863J...      849.60   \n",
              "4  Switzerland  https://open.spotify.com/track/6FyRXC8tJUh863J...    20739.10   \n",
              "\n",
              "        Title        Artist Album/Single              Genre Artist_followers  \\\n",
              "0  adan y eva  Paulo Londra       single  argentine hip hop       11427104.0   \n",
              "1  adan y eva  Paulo Londra       single  argentine hip hop       11427104.0   \n",
              "2  adan y eva  Paulo Londra       single  argentine hip hop       11427104.0   \n",
              "3  adan y eva  Paulo Londra       single  argentine hip hop       11427104.0   \n",
              "4  adan y eva  Paulo Londra       single  argentine hip hop       11427104.0   \n",
              "\n",
              "  Explicit       Album  ... Sweden Switzerland Taiwan Turkey UK USA Popu_max  \\\n",
              "0    False  Adan y Eva  ...      0           0      0      0  0   0       10   \n",
              "1    False  Adan y Eva  ...      0           0      0      0  0   1      191   \n",
              "2    False  Adan y Eva  ...      0           0      0      0  0   0        1   \n",
              "3    False  Adan y Eva  ...      0           0      0      0  0   0      126   \n",
              "4    False  Adan y Eva  ...      0           1      0      0  0   0       21   \n",
              "\n",
              "  Top10_dummy Top50_dummy                      Cluster  \n",
              "0         1.0         1.0                       global  \n",
              "1         0.0         0.0  english speaking and nordic  \n",
              "2         1.0         1.0             spanish speaking  \n",
              "3         0.0         0.0  english speaking and nordic  \n",
              "4         0.0         1.0  english speaking and nordic  \n",
              "\n",
              "[5 rows x 151 columns]"
            ],
            "text/html": [
              "\n",
              "  <div id=\"df-f7808897-2e73-4c54-bfab-24eaf62a5184\">\n",
              "    <div class=\"colab-df-container\">\n",
              "      <div>\n",
              "<style scoped>\n",
              "    .dataframe tbody tr th:only-of-type {\n",
              "        vertical-align: middle;\n",
              "    }\n",
              "\n",
              "    .dataframe tbody tr th {\n",
              "        vertical-align: top;\n",
              "    }\n",
              "\n",
              "    .dataframe thead th {\n",
              "        text-align: right;\n",
              "    }\n",
              "</style>\n",
              "<table border=\"1\" class=\"dataframe\">\n",
              "  <thead>\n",
              "    <tr style=\"text-align: right;\">\n",
              "      <th></th>\n",
              "      <th>Country</th>\n",
              "      <th>Uri</th>\n",
              "      <th>Popularity</th>\n",
              "      <th>Title</th>\n",
              "      <th>Artist</th>\n",
              "      <th>Album/Single</th>\n",
              "      <th>Genre</th>\n",
              "      <th>Artist_followers</th>\n",
              "      <th>Explicit</th>\n",
              "      <th>Album</th>\n",
              "      <th>...</th>\n",
              "      <th>Sweden</th>\n",
              "      <th>Switzerland</th>\n",
              "      <th>Taiwan</th>\n",
              "      <th>Turkey</th>\n",
              "      <th>UK</th>\n",
              "      <th>USA</th>\n",
              "      <th>Popu_max</th>\n",
              "      <th>Top10_dummy</th>\n",
              "      <th>Top50_dummy</th>\n",
              "      <th>Cluster</th>\n",
              "    </tr>\n",
              "  </thead>\n",
              "  <tbody>\n",
              "    <tr>\n",
              "      <th>0</th>\n",
              "      <td>Global</td>\n",
              "      <td>https://open.spotify.com/track/6FyRXC8tJUh863J...</td>\n",
              "      <td>31833.95</td>\n",
              "      <td>adan y eva</td>\n",
              "      <td>Paulo Londra</td>\n",
              "      <td>single</td>\n",
              "      <td>argentine hip hop</td>\n",
              "      <td>11427104.0</td>\n",
              "      <td>False</td>\n",
              "      <td>Adan y Eva</td>\n",
              "      <td>...</td>\n",
              "      <td>0</td>\n",
              "      <td>0</td>\n",
              "      <td>0</td>\n",
              "      <td>0</td>\n",
              "      <td>0</td>\n",
              "      <td>0</td>\n",
              "      <td>10</td>\n",
              "      <td>1.0</td>\n",
              "      <td>1.0</td>\n",
              "      <td>global</td>\n",
              "    </tr>\n",
              "    <tr>\n",
              "      <th>1</th>\n",
              "      <td>USA</td>\n",
              "      <td>https://open.spotify.com/track/6FyRXC8tJUh863J...</td>\n",
              "      <td>8.00</td>\n",
              "      <td>adan y eva</td>\n",
              "      <td>Paulo Londra</td>\n",
              "      <td>single</td>\n",
              "      <td>argentine hip hop</td>\n",
              "      <td>11427104.0</td>\n",
              "      <td>False</td>\n",
              "      <td>Adan y Eva</td>\n",
              "      <td>...</td>\n",
              "      <td>0</td>\n",
              "      <td>0</td>\n",
              "      <td>0</td>\n",
              "      <td>0</td>\n",
              "      <td>0</td>\n",
              "      <td>1</td>\n",
              "      <td>191</td>\n",
              "      <td>0.0</td>\n",
              "      <td>0.0</td>\n",
              "      <td>english speaking and nordic</td>\n",
              "    </tr>\n",
              "    <tr>\n",
              "      <th>2</th>\n",
              "      <td>Argentina</td>\n",
              "      <td>https://open.spotify.com/track/6FyRXC8tJUh863J...</td>\n",
              "      <td>76924.40</td>\n",
              "      <td>adan y eva</td>\n",
              "      <td>Paulo Londra</td>\n",
              "      <td>single</td>\n",
              "      <td>argentine hip hop</td>\n",
              "      <td>11427104.0</td>\n",
              "      <td>False</td>\n",
              "      <td>Adan y Eva</td>\n",
              "      <td>...</td>\n",
              "      <td>0</td>\n",
              "      <td>0</td>\n",
              "      <td>0</td>\n",
              "      <td>0</td>\n",
              "      <td>0</td>\n",
              "      <td>0</td>\n",
              "      <td>1</td>\n",
              "      <td>1.0</td>\n",
              "      <td>1.0</td>\n",
              "      <td>spanish speaking</td>\n",
              "    </tr>\n",
              "    <tr>\n",
              "      <th>3</th>\n",
              "      <td>Belgium</td>\n",
              "      <td>https://open.spotify.com/track/6FyRXC8tJUh863J...</td>\n",
              "      <td>849.60</td>\n",
              "      <td>adan y eva</td>\n",
              "      <td>Paulo Londra</td>\n",
              "      <td>single</td>\n",
              "      <td>argentine hip hop</td>\n",
              "      <td>11427104.0</td>\n",
              "      <td>False</td>\n",
              "      <td>Adan y Eva</td>\n",
              "      <td>...</td>\n",
              "      <td>0</td>\n",
              "      <td>0</td>\n",
              "      <td>0</td>\n",
              "      <td>0</td>\n",
              "      <td>0</td>\n",
              "      <td>0</td>\n",
              "      <td>126</td>\n",
              "      <td>0.0</td>\n",
              "      <td>0.0</td>\n",
              "      <td>english speaking and nordic</td>\n",
              "    </tr>\n",
              "    <tr>\n",
              "      <th>4</th>\n",
              "      <td>Switzerland</td>\n",
              "      <td>https://open.spotify.com/track/6FyRXC8tJUh863J...</td>\n",
              "      <td>20739.10</td>\n",
              "      <td>adan y eva</td>\n",
              "      <td>Paulo Londra</td>\n",
              "      <td>single</td>\n",
              "      <td>argentine hip hop</td>\n",
              "      <td>11427104.0</td>\n",
              "      <td>False</td>\n",
              "      <td>Adan y Eva</td>\n",
              "      <td>...</td>\n",
              "      <td>0</td>\n",
              "      <td>1</td>\n",
              "      <td>0</td>\n",
              "      <td>0</td>\n",
              "      <td>0</td>\n",
              "      <td>0</td>\n",
              "      <td>21</td>\n",
              "      <td>0.0</td>\n",
              "      <td>1.0</td>\n",
              "      <td>english speaking and nordic</td>\n",
              "    </tr>\n",
              "  </tbody>\n",
              "</table>\n",
              "<p>5 rows × 151 columns</p>\n",
              "</div>\n",
              "      <button class=\"colab-df-convert\" onclick=\"convertToInteractive('df-f7808897-2e73-4c54-bfab-24eaf62a5184')\"\n",
              "              title=\"Convert this dataframe to an interactive table.\"\n",
              "              style=\"display:none;\">\n",
              "        \n",
              "  <svg xmlns=\"http://www.w3.org/2000/svg\" height=\"24px\"viewBox=\"0 0 24 24\"\n",
              "       width=\"24px\">\n",
              "    <path d=\"M0 0h24v24H0V0z\" fill=\"none\"/>\n",
              "    <path d=\"M18.56 5.44l.94 2.06.94-2.06 2.06-.94-2.06-.94-.94-2.06-.94 2.06-2.06.94zm-11 1L8.5 8.5l.94-2.06 2.06-.94-2.06-.94L8.5 2.5l-.94 2.06-2.06.94zm10 10l.94 2.06.94-2.06 2.06-.94-2.06-.94-.94-2.06-.94 2.06-2.06.94z\"/><path d=\"M17.41 7.96l-1.37-1.37c-.4-.4-.92-.59-1.43-.59-.52 0-1.04.2-1.43.59L10.3 9.45l-7.72 7.72c-.78.78-.78 2.05 0 2.83L4 21.41c.39.39.9.59 1.41.59.51 0 1.02-.2 1.41-.59l7.78-7.78 2.81-2.81c.8-.78.8-2.07 0-2.86zM5.41 20L4 18.59l7.72-7.72 1.47 1.35L5.41 20z\"/>\n",
              "  </svg>\n",
              "      </button>\n",
              "      \n",
              "  <style>\n",
              "    .colab-df-container {\n",
              "      display:flex;\n",
              "      flex-wrap:wrap;\n",
              "      gap: 12px;\n",
              "    }\n",
              "\n",
              "    .colab-df-convert {\n",
              "      background-color: #E8F0FE;\n",
              "      border: none;\n",
              "      border-radius: 50%;\n",
              "      cursor: pointer;\n",
              "      display: none;\n",
              "      fill: #1967D2;\n",
              "      height: 32px;\n",
              "      padding: 0 0 0 0;\n",
              "      width: 32px;\n",
              "    }\n",
              "\n",
              "    .colab-df-convert:hover {\n",
              "      background-color: #E2EBFA;\n",
              "      box-shadow: 0px 1px 2px rgba(60, 64, 67, 0.3), 0px 1px 3px 1px rgba(60, 64, 67, 0.15);\n",
              "      fill: #174EA6;\n",
              "    }\n",
              "\n",
              "    [theme=dark] .colab-df-convert {\n",
              "      background-color: #3B4455;\n",
              "      fill: #D2E3FC;\n",
              "    }\n",
              "\n",
              "    [theme=dark] .colab-df-convert:hover {\n",
              "      background-color: #434B5C;\n",
              "      box-shadow: 0px 1px 3px 1px rgba(0, 0, 0, 0.15);\n",
              "      filter: drop-shadow(0px 1px 2px rgba(0, 0, 0, 0.3));\n",
              "      fill: #FFFFFF;\n",
              "    }\n",
              "  </style>\n",
              "\n",
              "      <script>\n",
              "        const buttonEl =\n",
              "          document.querySelector('#df-f7808897-2e73-4c54-bfab-24eaf62a5184 button.colab-df-convert');\n",
              "        buttonEl.style.display =\n",
              "          google.colab.kernel.accessAllowed ? 'block' : 'none';\n",
              "\n",
              "        async function convertToInteractive(key) {\n",
              "          const element = document.querySelector('#df-f7808897-2e73-4c54-bfab-24eaf62a5184');\n",
              "          const dataTable =\n",
              "            await google.colab.kernel.invokeFunction('convertToInteractive',\n",
              "                                                     [key], {});\n",
              "          if (!dataTable) return;\n",
              "\n",
              "          const docLinkHtml = 'Like what you see? Visit the ' +\n",
              "            '<a target=\"_blank\" href=https://colab.research.google.com/notebooks/data_table.ipynb>data table notebook</a>'\n",
              "            + ' to learn more about interactive tables.';\n",
              "          element.innerHTML = '';\n",
              "          dataTable['output_type'] = 'display_data';\n",
              "          await google.colab.output.renderOutput(dataTable, element);\n",
              "          const docLink = document.createElement('div');\n",
              "          docLink.innerHTML = docLinkHtml;\n",
              "          element.appendChild(docLink);\n",
              "        }\n",
              "      </script>\n",
              "    </div>\n",
              "  </div>\n",
              "  "
            ]
          },
          "metadata": {},
          "execution_count": 7
        }
      ]
    },
    {
      "cell_type": "markdown",
      "source": [
        ""
      ],
      "metadata": {
        "id": "gsYVZB_hr_JW"
      }
    },
    {
      "cell_type": "code",
      "source": [
        " ! pip install kaggle"
      ],
      "metadata": {
        "id": "1jdogk0Whgae",
        "colab": {
          "base_uri": "https://localhost:8080/"
        },
        "outputId": "4473a53e-f1da-4be9-e870-b1a90058dffb"
      },
      "execution_count": 8,
      "outputs": [
        {
          "output_type": "stream",
          "name": "stdout",
          "text": [
            "Looking in indexes: https://pypi.org/simple, https://us-python.pkg.dev/colab-wheels/public/simple/\n",
            "Requirement already satisfied: kaggle in /usr/local/lib/python3.7/dist-packages (1.5.12)\n",
            "Requirement already satisfied: requests in /usr/local/lib/python3.7/dist-packages (from kaggle) (2.23.0)\n",
            "Requirement already satisfied: certifi in /usr/local/lib/python3.7/dist-packages (from kaggle) (2022.6.15)\n",
            "Requirement already satisfied: six>=1.10 in /usr/local/lib/python3.7/dist-packages (from kaggle) (1.15.0)\n",
            "Requirement already satisfied: python-slugify in /usr/local/lib/python3.7/dist-packages (from kaggle) (6.1.2)\n",
            "Requirement already satisfied: tqdm in /usr/local/lib/python3.7/dist-packages (from kaggle) (4.64.0)\n",
            "Requirement already satisfied: urllib3 in /usr/local/lib/python3.7/dist-packages (from kaggle) (1.24.3)\n",
            "Requirement already satisfied: python-dateutil in /usr/local/lib/python3.7/dist-packages (from kaggle) (2.8.2)\n",
            "Requirement already satisfied: text-unidecode>=1.3 in /usr/local/lib/python3.7/dist-packages (from python-slugify->kaggle) (1.3)\n",
            "Requirement already satisfied: chardet<4,>=3.0.2 in /usr/local/lib/python3.7/dist-packages (from requests->kaggle) (3.0.4)\n",
            "Requirement already satisfied: idna<3,>=2.5 in /usr/local/lib/python3.7/dist-packages (from requests->kaggle) (2.10)\n"
          ]
        }
      ]
    },
    {
      "cell_type": "code",
      "source": [
        " from google.colab import files\n",
        "\n",
        "# files.upload()"
      ],
      "metadata": {
        "id": "eIKJQo5Ohl6k"
      },
      "execution_count": 9,
      "outputs": []
    },
    {
      "cell_type": "code",
      "source": [
        "%%capture\n",
        "!pip install pyspark\n",
        "import numpy as np \n",
        "import pandas as pd\n",
        "import os\n",
        "import matplotlib.pyplot as plt\n",
        "import seaborn as sns\n",
        "%config InlineBackend.figure_format = 'svg'\n",
        "sns.set_palette('rainbow')\n",
        "sns.set_style('whitegrid')\n",
        "import plotly.express as px\n",
        "# these 2 lines fix a sporatic loading error in plotly\n",
        "from plotly.offline import plot, iplot, init_notebook_mode\n",
        "init_notebook_mode(connected=True)\n",
        "sns.set_style('darkgrid')\n",
        "# pyspark\n",
        "from pyspark import SparkConf, SparkContext\n",
        "from pyspark.sql import SparkSession, SQLContext\n",
        "\n",
        "from pyspark.sql.types import *\n",
        "import pyspark.sql.functions as F\n",
        "from pyspark.sql.functions import udf, col\n",
        "\n",
        "\n",
        "from sklearn.pipeline import Pipeline\n",
        "# from sklearn.manifold import TSNE\n",
        "from sklearn.decomposition import PCA\n",
        "from sklearn.cluster import KMeans\n",
        "\n",
        "CSV_FILE= 'Final database.csv'\n",
        "# CSV_FILE= '/kaggle/input/spotify-huge-database-daily-charts-over-3-years/Database to calculate popularity.csv'"
      ],
      "metadata": {
        "id": "7_en9TuviRMp"
      },
      "execution_count": 10,
      "outputs": []
    },
    {
      "cell_type": "code",
      "source": [
        "CSV_FILE"
      ],
      "metadata": {
        "id": "5-JmcXU5jt6y",
        "colab": {
          "base_uri": "https://localhost:8080/",
          "height": 36
        },
        "outputId": "2755aba4-fc9b-4846-df4d-ec92a58ebeda"
      },
      "execution_count": 11,
      "outputs": [
        {
          "output_type": "execute_result",
          "data": {
            "text/plain": [
              "'Final database.csv'"
            ],
            "application/vnd.google.colaboratory.intrinsic+json": {
              "type": "string"
            }
          },
          "metadata": {},
          "execution_count": 11
        }
      ]
    },
    {
      "cell_type": "code",
      "source": [
        "spark = SparkSession.builder.master(\"local[2]\").appName(\"Spotify-Huge-Dataset\").getOrCreate() #.enableHiveSupport()\n",
        "spark"
      ],
      "metadata": {
        "id": "nEpf363HjNgy",
        "colab": {
          "base_uri": "https://localhost:8080/",
          "height": 222
        },
        "outputId": "8aec33de-ca35-4c8e-bd1b-0f48785f7a3f"
      },
      "execution_count": 12,
      "outputs": [
        {
          "output_type": "execute_result",
          "data": {
            "text/plain": [
              "<pyspark.sql.session.SparkSession at 0x7f1ccc32d090>"
            ],
            "text/html": [
              "\n",
              "            <div>\n",
              "                <p><b>SparkSession - in-memory</b></p>\n",
              "                \n",
              "        <div>\n",
              "            <p><b>SparkContext</b></p>\n",
              "\n",
              "            <p><a href=\"http://e55478343559:4040\">Spark UI</a></p>\n",
              "\n",
              "            <dl>\n",
              "              <dt>Version</dt>\n",
              "                <dd><code>v3.3.0</code></dd>\n",
              "              <dt>Master</dt>\n",
              "                <dd><code>local[2]</code></dd>\n",
              "              <dt>AppName</dt>\n",
              "                <dd><code>Spotify-Huge-Dataset</code></dd>\n",
              "            </dl>\n",
              "        </div>\n",
              "        \n",
              "            </div>\n",
              "        "
            ]
          },
          "metadata": {},
          "execution_count": 12
        }
      ]
    },
    {
      "cell_type": "markdown",
      "source": [
        ""
      ],
      "metadata": {
        "id": "u4qa1T3ujNT0"
      }
    },
    {
      "cell_type": "code",
      "source": [
        "%%time\n",
        "df = spark.read.option(\"header\", True).csv(CSV_FILE)\n",
        "df = df.withColumn(\"Release_date\", F.to_date(\"Release_date\", \"yyyy-MM-dd\"))\n",
        "numerical_features = ['danceability', 'energy', 'instrumentalness', 'valence', 'liveliness', 'speechiness', 'acoustics',\n",
        "                      'instrumentalness', 'tempo', 'duration_ms', \n",
        "                      'time_signature', 'Days_since_release', 'n_words']\n",
        "\n",
        "for c in numerical_features:\n",
        "    df = df.withColumn(c, df[c].cast(\"float\"))\n",
        "    \n",
        "cols_to_drop = ['syuzhet_norm', 'bing_norm', 'afinn_norm', 'nrc_norm', 'syuzhet', 'bing'] \n",
        "for c in cols_to_drop:\n",
        "    df.drop(c).collect()\n",
        "    \n",
        "df.printSchema()\n",
        "# df.show(n=1, truncate=False, vertical=True)"
      ],
      "metadata": {
        "id": "7_BXNKy_jmJr",
        "colab": {
          "base_uri": "https://localhost:8080/"
        },
        "outputId": "fff03b21-1cba-421e-957a-e78e2b21400c"
      },
      "execution_count": 13,
      "outputs": [
        {
          "output_type": "stream",
          "name": "stdout",
          "text": [
            "root\n",
            " |-- Country0: string (nullable = true)\n",
            " |-- Uri: string (nullable = true)\n",
            " |-- Popularity: string (nullable = true)\n",
            " |-- Title: string (nullable = true)\n",
            " |-- Artist: string (nullable = true)\n",
            " |-- Album/Single: string (nullable = true)\n",
            " |-- Genre: string (nullable = true)\n",
            " |-- Artist_followers: string (nullable = true)\n",
            " |-- Explicit: string (nullable = true)\n",
            " |-- Album9: string (nullable = true)\n",
            " |-- Release_date: date (nullable = true)\n",
            " |-- Track_number: string (nullable = true)\n",
            " |-- Tracks_in_album: string (nullable = true)\n",
            " |-- danceability: float (nullable = true)\n",
            " |-- energy: float (nullable = true)\n",
            " |-- key: string (nullable = true)\n",
            " |-- loudness: string (nullable = true)\n",
            " |-- mode: string (nullable = true)\n",
            " |-- speechiness: float (nullable = true)\n",
            " |-- acoustics: float (nullable = true)\n",
            " |-- instrumentalness: float (nullable = true)\n",
            " |-- liveliness: float (nullable = true)\n",
            " |-- valence: float (nullable = true)\n",
            " |-- tempo: float (nullable = true)\n",
            " |-- duration_ms: float (nullable = true)\n",
            " |-- time_signature: float (nullable = true)\n",
            " |-- Genre_new: string (nullable = true)\n",
            " |-- Days_since_release: float (nullable = true)\n",
            " |-- Released_after_2017: string (nullable = true)\n",
            " |-- Explicit_false: string (nullable = true)\n",
            " |-- Explicit_true: string (nullable = true)\n",
            " |-- album31: string (nullable = true)\n",
            " |-- compilation: string (nullable = true)\n",
            " |-- single: string (nullable = true)\n",
            " |-- bolero: string (nullable = true)\n",
            " |-- boy band: string (nullable = true)\n",
            " |-- country36: string (nullable = true)\n",
            " |-- dance/electronic: string (nullable = true)\n",
            " |-- else: string (nullable = true)\n",
            " |-- funk: string (nullable = true)\n",
            " |-- hip hop: string (nullable = true)\n",
            " |-- house: string (nullable = true)\n",
            " |-- indie: string (nullable = true)\n",
            " |-- jazz: string (nullable = true)\n",
            " |-- k-pop: string (nullable = true)\n",
            " |-- latin: string (nullable = true)\n",
            " |-- metal: string (nullable = true)\n",
            " |-- opm: string (nullable = true)\n",
            " |-- pop: string (nullable = true)\n",
            " |-- r&b/soul: string (nullable = true)\n",
            " |-- rap: string (nullable = true)\n",
            " |-- reggae: string (nullable = true)\n",
            " |-- reggaeton: string (nullable = true)\n",
            " |-- rock: string (nullable = true)\n",
            " |-- trap: string (nullable = true)\n",
            " |-- syuzhet_norm: string (nullable = true)\n",
            " |-- bing_norm: string (nullable = true)\n",
            " |-- afinn_norm: string (nullable = true)\n",
            " |-- nrc_norm: string (nullable = true)\n",
            " |-- syuzhet: string (nullable = true)\n",
            " |-- bing: string (nullable = true)\n",
            " |-- afinn: string (nullable = true)\n",
            " |-- nrc: string (nullable = true)\n",
            " |-- anger: string (nullable = true)\n",
            " |-- anticipation: string (nullable = true)\n",
            " |-- disgust: string (nullable = true)\n",
            " |-- fear: string (nullable = true)\n",
            " |-- joy: string (nullable = true)\n",
            " |-- sadness: string (nullable = true)\n",
            " |-- surprise: string (nullable = true)\n",
            " |-- trust: string (nullable = true)\n",
            " |-- negative: string (nullable = true)\n",
            " |-- positive: string (nullable = true)\n",
            " |-- n_words: float (nullable = true)\n",
            " |-- anger_norm: string (nullable = true)\n",
            " |-- anticipation_norm: string (nullable = true)\n",
            " |-- disgust_norm: string (nullable = true)\n",
            " |-- fear_norm: string (nullable = true)\n",
            " |-- joy_norm: string (nullable = true)\n",
            " |-- sadness_norm: string (nullable = true)\n",
            " |-- surprise_norm: string (nullable = true)\n",
            " |-- trust_norm: string (nullable = true)\n",
            " |-- negative_norm: string (nullable = true)\n",
            " |-- positive_norm: string (nullable = true)\n",
            " |-- anger_norm2: string (nullable = true)\n",
            " |-- anticipation_norm2: string (nullable = true)\n",
            " |-- disgust_norm2: string (nullable = true)\n",
            " |-- fear_norm2: string (nullable = true)\n",
            " |-- joy_norm2: string (nullable = true)\n",
            " |-- sadness_norm2: string (nullable = true)\n",
            " |-- surprise_norm2: string (nullable = true)\n",
            " |-- trust_norm2: string (nullable = true)\n",
            " |-- negative_norm2: string (nullable = true)\n",
            " |-- positive_norm2: string (nullable = true)\n",
            " |-- negative_bog_jr: string (nullable = true)\n",
            " |-- positive_bog_jr: string (nullable = true)\n",
            " |-- Bayes: string (nullable = true)\n",
            " |-- Negative_Bayes: string (nullable = true)\n",
            " |-- Neutral_Bayes: string (nullable = true)\n",
            " |-- Positive_Bayes: string (nullable = true)\n",
            " |-- LDA_Topic: string (nullable = true)\n",
            " |-- Celebrate: string (nullable = true)\n",
            " |-- Desire: string (nullable = true)\n",
            " |-- Explore: string (nullable = true)\n",
            " |-- Fun: string (nullable = true)\n",
            " |-- Hope: string (nullable = true)\n",
            " |-- Love: string (nullable = true)\n",
            " |-- Nostalgia: string (nullable = true)\n",
            " |-- Thug: string (nullable = true)\n",
            " |-- bing_norm_negative: string (nullable = true)\n",
            " |-- bing_norm_neutral: string (nullable = true)\n",
            " |-- bing_norm_positive: string (nullable = true)\n",
            " |-- Argentina: string (nullable = true)\n",
            " |-- Australia: string (nullable = true)\n",
            " |-- Austria: string (nullable = true)\n",
            " |-- Belgium: string (nullable = true)\n",
            " |-- Brazil: string (nullable = true)\n",
            " |-- Canada: string (nullable = true)\n",
            " |-- Chile: string (nullable = true)\n",
            " |-- Colombia: string (nullable = true)\n",
            " |-- Costa Rica: string (nullable = true)\n",
            " |-- Denmark: string (nullable = true)\n",
            " |-- Ecuador: string (nullable = true)\n",
            " |-- Finland: string (nullable = true)\n",
            " |-- France: string (nullable = true)\n",
            " |-- Germany: string (nullable = true)\n",
            " |-- Global: string (nullable = true)\n",
            " |-- Indonesia: string (nullable = true)\n",
            " |-- Ireland: string (nullable = true)\n",
            " |-- Italy: string (nullable = true)\n",
            " |-- Malaysia: string (nullable = true)\n",
            " |-- Mexico: string (nullable = true)\n",
            " |-- Netherlands: string (nullable = true)\n",
            " |-- New Zealand: string (nullable = true)\n",
            " |-- Norway: string (nullable = true)\n",
            " |-- Peru: string (nullable = true)\n",
            " |-- Philippines: string (nullable = true)\n",
            " |-- Poland: string (nullable = true)\n",
            " |-- Portugal: string (nullable = true)\n",
            " |-- Singapore: string (nullable = true)\n",
            " |-- Spain: string (nullable = true)\n",
            " |-- Sweden: string (nullable = true)\n",
            " |-- Switzerland: string (nullable = true)\n",
            " |-- Taiwan: string (nullable = true)\n",
            " |-- Turkey: string (nullable = true)\n",
            " |-- UK: string (nullable = true)\n",
            " |-- USA: string (nullable = true)\n",
            " |-- Popu_max: string (nullable = true)\n",
            " |-- Top10_dummy: string (nullable = true)\n",
            " |-- Top50_dummy: string (nullable = true)\n",
            " |-- Cluster: string (nullable = true)\n",
            "\n",
            "CPU times: user 55.5 s, sys: 3.28 s, total: 58.8 s\n",
            "Wall time: 3min 59s\n"
          ]
        }
      ]
    },
    {
      "cell_type": "code",
      "source": [
        "df.select([\"Title\",\"Artist\"]).distinct().count()\n"
      ],
      "metadata": {
        "id": "ShCINWhyja4I",
        "colab": {
          "base_uri": "https://localhost:8080/"
        },
        "outputId": "c9a5d351-9adc-4e93-a5d9-7286128a1a15"
      },
      "execution_count": 14,
      "outputs": [
        {
          "output_type": "execute_result",
          "data": {
            "text/plain": [
              "56241"
            ]
          },
          "metadata": {},
          "execution_count": 14
        }
      ]
    },
    {
      "cell_type": "code",
      "source": [
        "type(df)"
      ],
      "metadata": {
        "id": "UlXO5GhVDR-M",
        "colab": {
          "base_uri": "https://localhost:8080/",
          "height": 171
        },
        "outputId": "a42177d7-e9b7-4174-d94b-f75f2c030b51"
      },
      "execution_count": 2,
      "outputs": [
        {
          "output_type": "error",
          "ename": "NameError",
          "evalue": "ignored",
          "traceback": [
            "\u001b[0;31m---------------------------------------------------------------------------\u001b[0m",
            "\u001b[0;31mNameError\u001b[0m                                 Traceback (most recent call last)",
            "\u001b[0;32m<ipython-input-2-16f65e8a7555>\u001b[0m in \u001b[0;36m<module>\u001b[0;34m()\u001b[0m\n\u001b[0;32m----> 1\u001b[0;31m \u001b[0mtype\u001b[0m\u001b[0;34m(\u001b[0m\u001b[0mdf\u001b[0m\u001b[0;34m)\u001b[0m\u001b[0;34m\u001b[0m\u001b[0;34m\u001b[0m\u001b[0m\n\u001b[0m",
            "\u001b[0;31mNameError\u001b[0m: name 'df' is not defined"
          ]
        }
      ]
    },
    {
      "cell_type": "code",
      "source": [
        "df.head(3)"
      ],
      "metadata": {
        "id": "KviBcrqaNr7y",
        "outputId": "1fd131b2-a468-4d89-818a-7f631f43a0e8",
        "colab": {
          "base_uri": "https://localhost:8080/",
          "height": 171
        }
      },
      "execution_count": 1,
      "outputs": [
        {
          "output_type": "error",
          "ename": "NameError",
          "evalue": "ignored",
          "traceback": [
            "\u001b[0;31m---------------------------------------------------------------------------\u001b[0m",
            "\u001b[0;31mNameError\u001b[0m                                 Traceback (most recent call last)",
            "\u001b[0;32m<ipython-input-1-9447ae629b41>\u001b[0m in \u001b[0;36m<module>\u001b[0;34m()\u001b[0m\n\u001b[0;32m----> 1\u001b[0;31m \u001b[0mdf\u001b[0m\u001b[0;34m.\u001b[0m\u001b[0mhead\u001b[0m\u001b[0;34m(\u001b[0m\u001b[0;36m3\u001b[0m\u001b[0;34m)\u001b[0m\u001b[0;34m\u001b[0m\u001b[0;34m\u001b[0m\u001b[0m\n\u001b[0m",
            "\u001b[0;31mNameError\u001b[0m: name 'df' is not defined"
          ]
        }
      ]
    },
    {
      "cell_type": "code",
      "source": [
        "record = df.select([\"Title\",\"Artist\"]).distinct().count() / df.select([\"Title\",\"Artist\"]).count()\n",
        "print(\"portion of distinct songs:\" ,round(record, 2))"
      ],
      "metadata": {
        "id": "ZWsD1s2-BDHW",
        "colab": {
          "base_uri": "https://localhost:8080/"
        },
        "outputId": "6c701e75-1ad7-4395-dda6-d6299b5c822c"
      },
      "execution_count": 16,
      "outputs": [
        {
          "output_type": "stream",
          "name": "stdout",
          "text": [
            "portion of distinct songs: 0.33\n"
          ]
        }
      ]
    },
    {
      "cell_type": "code",
      "source": [
        "print(df[numerical_features])"
      ],
      "metadata": {
        "id": "lhws9_8MApjE",
        "colab": {
          "base_uri": "https://localhost:8080/"
        },
        "outputId": "64f901d5-76ca-4a19-cf60-79b7b0e4a8fe"
      },
      "execution_count": 17,
      "outputs": [
        {
          "output_type": "stream",
          "name": "stdout",
          "text": [
            "DataFrame[danceability: float, energy: float, instrumentalness: float, valence: float, liveliness: float, speechiness: float, acoustics: float, instrumentalness: float, tempo: float, duration_ms: float, time_signature: float, Days_since_release: float, n_words: float]\n"
          ]
        }
      ]
    },
    {
      "cell_type": "code",
      "source": [
        "print(\"Dataset Shape using spark syntax:\\n\",(df.count(), len(df.columns)))\n"
      ],
      "metadata": {
        "id": "miCXy7bR7YTs",
        "colab": {
          "base_uri": "https://localhost:8080/"
        },
        "outputId": "f6506347-c3ca-41c7-f3a5-235b6abb0df1"
      },
      "execution_count": 18,
      "outputs": [
        {
          "output_type": "stream",
          "name": "stdout",
          "text": [
            "Dataset Shape using spark syntax:\n",
            " (170633, 151)\n"
          ]
        }
      ]
    },
    {
      "cell_type": "code",
      "source": [
        "df.groupBy(\"Artist\").count().orderBy(\"count\", ascending=False).toPandas()"
      ],
      "metadata": {
        "id": "NUR9nD7TDijU",
        "colab": {
          "base_uri": "https://localhost:8080/",
          "height": 424
        },
        "outputId": "509e9e1b-47d6-4f33-c63c-a1cc7b84525e"
      },
      "execution_count": 19,
      "outputs": [
        {
          "output_type": "execute_result",
          "data": {
            "text/plain": [
              "                            Artist  count\n",
              "0                    Ariana Grande   1487\n",
              "1                            Drake   1473\n",
              "2                              BTS   1376\n",
              "3                     Taylor Swift   1285\n",
              "4                     XXXTENTACION    989\n",
              "...                            ...    ...\n",
              "25519             Aloe Blacc - JID      1\n",
              "25520  The Script - Christy Dignam      1\n",
              "25521    Bunbury - Andrés Calamaro      1\n",
              "25522               Ed Struijlaart      1\n",
              "25523      DNCE - End of the World      1\n",
              "\n",
              "[25524 rows x 2 columns]"
            ],
            "text/html": [
              "\n",
              "  <div id=\"df-302e5024-2274-4685-a5dc-4e42998d8cbc\">\n",
              "    <div class=\"colab-df-container\">\n",
              "      <div>\n",
              "<style scoped>\n",
              "    .dataframe tbody tr th:only-of-type {\n",
              "        vertical-align: middle;\n",
              "    }\n",
              "\n",
              "    .dataframe tbody tr th {\n",
              "        vertical-align: top;\n",
              "    }\n",
              "\n",
              "    .dataframe thead th {\n",
              "        text-align: right;\n",
              "    }\n",
              "</style>\n",
              "<table border=\"1\" class=\"dataframe\">\n",
              "  <thead>\n",
              "    <tr style=\"text-align: right;\">\n",
              "      <th></th>\n",
              "      <th>Artist</th>\n",
              "      <th>count</th>\n",
              "    </tr>\n",
              "  </thead>\n",
              "  <tbody>\n",
              "    <tr>\n",
              "      <th>0</th>\n",
              "      <td>Ariana Grande</td>\n",
              "      <td>1487</td>\n",
              "    </tr>\n",
              "    <tr>\n",
              "      <th>1</th>\n",
              "      <td>Drake</td>\n",
              "      <td>1473</td>\n",
              "    </tr>\n",
              "    <tr>\n",
              "      <th>2</th>\n",
              "      <td>BTS</td>\n",
              "      <td>1376</td>\n",
              "    </tr>\n",
              "    <tr>\n",
              "      <th>3</th>\n",
              "      <td>Taylor Swift</td>\n",
              "      <td>1285</td>\n",
              "    </tr>\n",
              "    <tr>\n",
              "      <th>4</th>\n",
              "      <td>XXXTENTACION</td>\n",
              "      <td>989</td>\n",
              "    </tr>\n",
              "    <tr>\n",
              "      <th>...</th>\n",
              "      <td>...</td>\n",
              "      <td>...</td>\n",
              "    </tr>\n",
              "    <tr>\n",
              "      <th>25519</th>\n",
              "      <td>Aloe Blacc - JID</td>\n",
              "      <td>1</td>\n",
              "    </tr>\n",
              "    <tr>\n",
              "      <th>25520</th>\n",
              "      <td>The Script - Christy Dignam</td>\n",
              "      <td>1</td>\n",
              "    </tr>\n",
              "    <tr>\n",
              "      <th>25521</th>\n",
              "      <td>Bunbury - Andrés Calamaro</td>\n",
              "      <td>1</td>\n",
              "    </tr>\n",
              "    <tr>\n",
              "      <th>25522</th>\n",
              "      <td>Ed Struijlaart</td>\n",
              "      <td>1</td>\n",
              "    </tr>\n",
              "    <tr>\n",
              "      <th>25523</th>\n",
              "      <td>DNCE - End of the World</td>\n",
              "      <td>1</td>\n",
              "    </tr>\n",
              "  </tbody>\n",
              "</table>\n",
              "<p>25524 rows × 2 columns</p>\n",
              "</div>\n",
              "      <button class=\"colab-df-convert\" onclick=\"convertToInteractive('df-302e5024-2274-4685-a5dc-4e42998d8cbc')\"\n",
              "              title=\"Convert this dataframe to an interactive table.\"\n",
              "              style=\"display:none;\">\n",
              "        \n",
              "  <svg xmlns=\"http://www.w3.org/2000/svg\" height=\"24px\"viewBox=\"0 0 24 24\"\n",
              "       width=\"24px\">\n",
              "    <path d=\"M0 0h24v24H0V0z\" fill=\"none\"/>\n",
              "    <path d=\"M18.56 5.44l.94 2.06.94-2.06 2.06-.94-2.06-.94-.94-2.06-.94 2.06-2.06.94zm-11 1L8.5 8.5l.94-2.06 2.06-.94-2.06-.94L8.5 2.5l-.94 2.06-2.06.94zm10 10l.94 2.06.94-2.06 2.06-.94-2.06-.94-.94-2.06-.94 2.06-2.06.94z\"/><path d=\"M17.41 7.96l-1.37-1.37c-.4-.4-.92-.59-1.43-.59-.52 0-1.04.2-1.43.59L10.3 9.45l-7.72 7.72c-.78.78-.78 2.05 0 2.83L4 21.41c.39.39.9.59 1.41.59.51 0 1.02-.2 1.41-.59l7.78-7.78 2.81-2.81c.8-.78.8-2.07 0-2.86zM5.41 20L4 18.59l7.72-7.72 1.47 1.35L5.41 20z\"/>\n",
              "  </svg>\n",
              "      </button>\n",
              "      \n",
              "  <style>\n",
              "    .colab-df-container {\n",
              "      display:flex;\n",
              "      flex-wrap:wrap;\n",
              "      gap: 12px;\n",
              "    }\n",
              "\n",
              "    .colab-df-convert {\n",
              "      background-color: #E8F0FE;\n",
              "      border: none;\n",
              "      border-radius: 50%;\n",
              "      cursor: pointer;\n",
              "      display: none;\n",
              "      fill: #1967D2;\n",
              "      height: 32px;\n",
              "      padding: 0 0 0 0;\n",
              "      width: 32px;\n",
              "    }\n",
              "\n",
              "    .colab-df-convert:hover {\n",
              "      background-color: #E2EBFA;\n",
              "      box-shadow: 0px 1px 2px rgba(60, 64, 67, 0.3), 0px 1px 3px 1px rgba(60, 64, 67, 0.15);\n",
              "      fill: #174EA6;\n",
              "    }\n",
              "\n",
              "    [theme=dark] .colab-df-convert {\n",
              "      background-color: #3B4455;\n",
              "      fill: #D2E3FC;\n",
              "    }\n",
              "\n",
              "    [theme=dark] .colab-df-convert:hover {\n",
              "      background-color: #434B5C;\n",
              "      box-shadow: 0px 1px 3px 1px rgba(0, 0, 0, 0.15);\n",
              "      filter: drop-shadow(0px 1px 2px rgba(0, 0, 0, 0.3));\n",
              "      fill: #FFFFFF;\n",
              "    }\n",
              "  </style>\n",
              "\n",
              "      <script>\n",
              "        const buttonEl =\n",
              "          document.querySelector('#df-302e5024-2274-4685-a5dc-4e42998d8cbc button.colab-df-convert');\n",
              "        buttonEl.style.display =\n",
              "          google.colab.kernel.accessAllowed ? 'block' : 'none';\n",
              "\n",
              "        async function convertToInteractive(key) {\n",
              "          const element = document.querySelector('#df-302e5024-2274-4685-a5dc-4e42998d8cbc');\n",
              "          const dataTable =\n",
              "            await google.colab.kernel.invokeFunction('convertToInteractive',\n",
              "                                                     [key], {});\n",
              "          if (!dataTable) return;\n",
              "\n",
              "          const docLinkHtml = 'Like what you see? Visit the ' +\n",
              "            '<a target=\"_blank\" href=https://colab.research.google.com/notebooks/data_table.ipynb>data table notebook</a>'\n",
              "            + ' to learn more about interactive tables.';\n",
              "          element.innerHTML = '';\n",
              "          dataTable['output_type'] = 'display_data';\n",
              "          await google.colab.output.renderOutput(dataTable, element);\n",
              "          const docLink = document.createElement('div');\n",
              "          docLink.innerHTML = docLinkHtml;\n",
              "          element.appendChild(docLink);\n",
              "        }\n",
              "      </script>\n",
              "    </div>\n",
              "  </div>\n",
              "  "
            ]
          },
          "metadata": {},
          "execution_count": 19
        }
      ]
    },
    {
      "cell_type": "code",
      "source": [
        "# each count is a song that was in the top 200 most played on a day on spotify during the last 3 years\n",
        "result_df = (df.groupBy(\"Artist\")\n",
        "               .count()\n",
        "               .orderBy(\"count\", ascending=False)\n",
        "               .limit(20)\n",
        "               .toPandas()\n",
        "            )\n",
        "# px.bar(result_df, y='Artist', x='count', title='Most Prolific Artists')"
      ],
      "metadata": {
        "id": "HOBQsxU77d6C"
      },
      "execution_count": 20,
      "outputs": []
    },
    {
      "cell_type": "code",
      "source": [
        "# same as above but with seaborn (sometimes plotly doesn't show up in the published notebok)\n",
        "sns.barplot(data=result_df, y='Artist', x='count').set_title('Most Prolific Artists');"
      ],
      "metadata": {
        "id": "aIDOqQy07nuY"
      },
      "execution_count": null,
      "outputs": []
    },
    {
      "cell_type": "code",
      "source": [
        "df.head()"
      ],
      "metadata": {
        "id": "IsfMVOn-7zqB",
        "colab": {
          "base_uri": "https://localhost:8080/"
        },
        "outputId": "1c1fe7e0-c598-4daa-87d7-b4d80ef71786"
      },
      "execution_count": 22,
      "outputs": [
        {
          "output_type": "execute_result",
          "data": {
            "text/plain": [
              "Row(Country0='Global', Uri='https://open.spotify.com/track/6FyRXC8tJUh863JCkyWqtk', Popularity='31833.95', Title='adan y eva', Artist='Paulo Londra', Album/Single='single', Genre='argentine hip hop', Artist_followers='11427104.0', Explicit='False', Album9='Adan y Eva', Release_date=datetime.date(2018, 11, 5), Track_number='1', Tracks_in_album='1', danceability=0.7670000195503235, energy=0.7089999914169312, key='1', loudness='-4.47', mode='1', speechiness=0.335999995470047, acoustics=0.3230000138282776, instrumentalness=0.0, liveliness=0.06759999692440033, valence=0.7200000286102295, tempo=171.9929962158203, duration_ms=258639.0, time_signature=4.0, Genre_new='hip hop', Days_since_release=740.0, Released_after_2017='1.0', Explicit_false='1', Explicit_true='0', album31='0', compilation='0', single='1', bolero='0', boy band='0', country36='0', dance/electronic='0', else='0', funk='0', hip hop='1', house='0', indie='0', jazz='0', k-pop='0', latin='0', metal='0', opm='0', pop='0', r&b/soul='0', rap='0', reggae='0', reggaeton='0', rock='0', trap='0', syuzhet_norm=None, bing_norm=None, afinn_norm=None, nrc_norm=None, syuzhet=None, bing=None, afinn=None, nrc=None, anger=None, anticipation=None, disgust=None, fear=None, joy=None, sadness=None, surprise=None, trust=None, negative=None, positive=None, n_words=None, anger_norm=None, anticipation_norm=None, disgust_norm=None, fear_norm=None, joy_norm=None, sadness_norm=None, surprise_norm=None, trust_norm=None, negative_norm=None, positive_norm=None, anger_norm2=None, anticipation_norm2=None, disgust_norm2=None, fear_norm2=None, joy_norm2=None, sadness_norm2=None, surprise_norm2=None, trust_norm2=None, negative_norm2=None, positive_norm2=None, negative_bog_jr=None, positive_bog_jr=None, Bayes=None, Negative_Bayes=None, Neutral_Bayes=None, Positive_Bayes=None, LDA_Topic=None, Celebrate=None, Desire=None, Explore=None, Fun=None, Hope=None, Love=None, Nostalgia=None, Thug=None, bing_norm_negative='0', bing_norm_neutral='0', bing_norm_positive='0', Argentina='0', Australia='0', Austria='0', Belgium='0', Brazil='0', Canada='0', Chile='0', Colombia='0', Costa Rica='0', Denmark='0', Ecuador='0', Finland='0', France='0', Germany='0', Global='1', Indonesia='0', Ireland='0', Italy='0', Malaysia='0', Mexico='0', Netherlands='0', New Zealand='0', Norway='0', Peru='0', Philippines='0', Poland='0', Portugal='0', Singapore='0', Spain='0', Sweden='0', Switzerland='0', Taiwan='0', Turkey='0', UK='0', USA='0', Popu_max='10', Top10_dummy='1.0', Top50_dummy='1.0', Cluster='global')"
            ]
          },
          "metadata": {},
          "execution_count": 22
        }
      ]
    },
    {
      "cell_type": "code",
      "source": [
        "df.createOrReplaceTempView(\"df_table\")\n"
      ],
      "metadata": {
        "id": "QfxkSyE58i6y"
      },
      "execution_count": 23,
      "outputs": []
    },
    {
      "cell_type": "code",
      "source": [
        "print(\"Now using the SQL Context. We can check it's the same length as before\")\n",
        "query = \"\"\"\n",
        "    SELECT Count(*) as Dataset_Length\n",
        "    FROM df_table\n",
        "\"\"\"\n",
        "res = spark.sql(query).show()"
      ],
      "metadata": {
        "id": "vcWQFxUk8lbq",
        "colab": {
          "base_uri": "https://localhost:8080/"
        },
        "outputId": "73dee51d-4f22-4cca-d1c6-effa8673f520"
      },
      "execution_count": 24,
      "outputs": [
        {
          "output_type": "stream",
          "name": "stdout",
          "text": [
            "Now using the SQL Context. We can check it's the same length as before\n",
            "+--------------+\n",
            "|Dataset_Length|\n",
            "+--------------+\n",
            "|        170633|\n",
            "+--------------+\n",
            "\n"
          ]
        }
      ]
    },
    {
      "cell_type": "code",
      "source": [
        "# Most popular artist (by sum of popularity of songs) in the USA\n",
        "query = \"\"\"\n",
        "SELECT\n",
        "                                    Artist, \n",
        "       ROUND(SUM(Popularity), 2) AS Populartiy\n",
        "FROM df_table\n",
        "WHERE USA == 1\n",
        "GROUP BY Artist\n",
        "ORDER BY AVG(Popularity) DESC\n",
        "LIMIT 10\n",
        "\"\"\"\n",
        "\n",
        "res = spark.sql(query)\n",
        "res.show(10, truncate=False)"
      ],
      "metadata": {
        "id": "olrF1qk_8rPt",
        "colab": {
          "base_uri": "https://localhost:8080/"
        },
        "outputId": "f3872217-a85b-488b-dd04-ac82874cfcd9"
      },
      "execution_count": 25,
      "outputs": [
        {
          "output_type": "stream",
          "name": "stdout",
          "text": [
            "+------------------------------+----------+\n",
            "|Artist                        |Populartiy|\n",
            "+------------------------------+----------+\n",
            "|Post Malone - Quavo           |130719.15 |\n",
            "|XXXTENTACION - Trippie Redd   |97016.35  |\n",
            "|Meek Mill - Drake             |83235.95  |\n",
            "|Post Malone - 21 Savage       |159633.25 |\n",
            "|Billie Eilish - Khalid        |79693.9   |\n",
            "|Marshmello - Bastille         |74560.5   |\n",
            "|Cardi B - Bad Bunny - J Balvin|74381.6   |\n",
            "|Migos - Lil Uzi Vert          |70138.2   |\n",
            "|BlocBoy JB - Drake            |69576.75  |\n",
            "|Kendrick Lamar - Zacari       |67838.15  |\n",
            "+------------------------------+----------+\n",
            "\n"
          ]
        }
      ]
    },
    {
      "cell_type": "code",
      "source": [
        "# select only the songs released in 1939\n",
        "(df.filter(F.year(df['Release_date']) == 1939)\n",
        "   .select('Title', 'Artist','Release_date', 'Genre')\n",
        "   .distinct()\n",
        "   .show(5, truncate=False)\n",
        ")"
      ],
      "metadata": {
        "id": "xohasdpY8xZo"
      },
      "execution_count": null,
      "outputs": []
    },
    {
      "cell_type": "code",
      "source": [
        "query = \"\"\"\n",
        "SELECT\n",
        "        ROUND(Year(Release_date), -1) AS Decade,\n",
        "        Round(Popularity, 2)          AS Popularity,\n",
        "                                         Title,\n",
        "                                         Artist\n",
        "FROM df_table\n",
        "INNER JOIN (SELECT Max(Popularity) as mp\n",
        "            FROM df_table\n",
        "            WHERE ROUND(Year(Release_date), -1) IS NOT NULL\n",
        "            AND USA == 1\n",
        "            GROUP BY ROUND(Year(Release_date), -1)\n",
        "           ) AS temp\n",
        "ON temp.mp = df_table.Popularity\n",
        "ORDER BY Decade ASC, Popularity ASC\n",
        "\"\"\"\n",
        "\n",
        "res = spark.sql(query)\n",
        "res.toPandas().drop_duplicates(subset='Decade', keep=\"last\")"
      ],
      "metadata": {
        "id": "oNOYRmzw83hC"
      },
      "execution_count": null,
      "outputs": []
    },
    {
      "cell_type": "code",
      "source": [
        "# highly optimized version of the above query via scalar-aggregate-reduction\n",
        "query = \"\"\"\n",
        "SELECT\n",
        "    ROUND(Year(Release_date), -1) as Decade,\n",
        "    ROUND(Max(Popularity), 2) as Popularity,\n",
        "    SUBSTRING(MAX(CONCAT(LPAD(Popularity, 11, 0), Title)), 12) AS Title,\n",
        "    SUBSTRING(MAX(CONCAT(LPAD(Popularity, 11, 0), Artist)), 12) AS Artist\n",
        "FROM\n",
        "    df_table\n",
        "WHERE\n",
        "    ROUND(Year(Release_date), -1) IS NOT NULL\n",
        "    AND USA == 1\n",
        "GROUP BY Decade\n",
        "ORDER BY Decade ASC\n",
        "\"\"\"\n",
        "\n",
        "spark.sql(query).show()"
      ],
      "metadata": {
        "id": "mtFlfwA39GyT",
        "colab": {
          "base_uri": "https://localhost:8080/"
        },
        "outputId": "c426c2f1-af94-4e1d-a4d5-7bb45cc2c64a"
      },
      "execution_count": 28,
      "outputs": [
        {
          "output_type": "stream",
          "name": "stdout",
          "text": [
            "+------+----------+--------------------+--------------------+\n",
            "|Decade|Popularity|               Title|              Artist|\n",
            "+------+----------+--------------------+--------------------+\n",
            "|  1940|     840.5|     white christmas|Bing Crosby - Ken...|\n",
            "|  1950|     997.6|ill be home for c...|         Bing Crosby|\n",
            "|  1960|   9704.95|    jingle bell rock|         Bobby Helms|\n",
            "|  1970|      98.4|what christmas me...|       Stevie Wonder|\n",
            "|  1980|      98.6|dreams - 2004 rem...|       Fleetwood Mac|\n",
            "|  1990|     97.75|            spoonman|         Soundgarden|\n",
            "|  2000|   9476.05|       feliz navidad|      José Feliciano|\n",
            "|  2010|     97.75|         tongue tied|           Grouplove|\n",
            "|  2020|   99912.3|       drip too hard|    Lil Baby - Gunna|\n",
            "+------+----------+--------------------+--------------------+\n",
            "\n"
          ]
        }
      ]
    },
    {
      "cell_type": "code",
      "source": [
        " # Most popular genres, period.\n",
        "query = \"\"\"\n",
        "SELECT Genre, COUNT(*) AS Tally\n",
        "FROM df_table\n",
        "GROUP BY Genre\n",
        "ORDER BY Tally DESC\n",
        "\"\"\"\n",
        "spark.sql(query).show(5)"
      ],
      "metadata": {
        "id": "YZzdnVe6-cpr"
      },
      "execution_count": null,
      "outputs": []
    },
    {
      "cell_type": "code",
      "source": [
        "query = \"\"\"\n",
        "SELECT\n",
        "      ROUND(Year(Release_date), -1) AS Decade,\n",
        "      Genre, COUNT(Genre)           AS counts\n",
        "FROM  df_table\n",
        "WHERE ROUND(Year(Release_date), -1) IS NOT NULL\n",
        "GROUP BY Decade, Genre\n",
        "ORDER BY COUNT(Genre) DESC\n",
        "\"\"\"\n",
        "\n",
        "res = (spark.sql(query)\n",
        "            .dropDuplicates(subset=['Decade'])\n",
        "            .orderBy('Decade')\n",
        "            .show()\n",
        "      )\n",
        "# res.toPandas().drop_duplicates(subset='Decade', keep=\"first\")\n"
      ],
      "metadata": {
        "id": "jKg9yTpy-oIB"
      },
      "execution_count": null,
      "outputs": []
    },
    {
      "cell_type": "code",
      "source": [
        "query = \"\"\"\n",
        "SELECT Title, Artist, Release_date, MAX(Popularity)\n",
        "FROM df_table\n",
        "WHERE Artist == \"Paulo Londra\"\n",
        "GROUP BY Title, Artist, Release_date\n",
        "LIMIT 10\n",
        "\"\"\"\n",
        "\n",
        "res = spark.sql(query).show()"
      ],
      "metadata": {
        "id": "o8hSFyd5_YDP"
      },
      "execution_count": null,
      "outputs": []
    },
    {
      "cell_type": "code",
      "source": [
        "sound_features = ['danceability', 'energy', 'instrumentalness', 'valence', 'liveliness', 'speechiness', 'acoustics']\n",
        "col_names = ['Decade']\n",
        "col_names.extend(sound_features)\n",
        "\n",
        "df_music_features = (df.sample(.2, seed=42)\n",
        "                       .groupBy(F.round(F.year(df.Release_date), -1))\n",
        "                       .agg({feature: 'mean' for feature in sound_features})\n",
        "                       .toDF(*col_names)\n",
        "                       .orderBy('Decade')\n",
        "                       .toPandas()\n",
        "                       .dropna(axis=0)\n",
        "                    )\n",
        "# fig = px.line(df_music_features, x='Decade', y=sound_features, title='Song Characteristics Over the Decades')\n",
        "# fig.show()\n"
      ],
      "metadata": {
        "id": "ubeI5BrB_fWs"
      },
      "execution_count": null,
      "outputs": []
    },
    {
      "cell_type": "code",
      "source": [
        "# same as above but with seaborn. (sometimes plotly doesn't show up in the published notebok)\n",
        "sns.lineplot(data=pd.melt(df_music_features, \n",
        "                          ['Decade']),\n",
        "                           x='Decade', \n",
        "                          y='value', \n",
        "                          hue='variable').set_title('Song Characteristics Over the Decades')"
      ],
      "metadata": {
        "id": "r39JKHzz_mCU",
        "colab": {
          "base_uri": "https://localhost:8080/",
          "height": 409
        },
        "outputId": "79cb2416-7340-464e-f373-7058bf49bc75"
      },
      "execution_count": 33,
      "outputs": [
        {
          "data": {
            "text/plain": [
              "Text(0.5, 1.0, 'Song Characteristics Over the Decades')"
            ]
          },
          "execution_count": 33,
          "metadata": {},
          "output_type": "execute_result"
        },
        {
          "data": {
            "image/svg+xml": "<?xml version=\"1.0\" encoding=\"utf-8\" standalone=\"no\"?>\n<!DOCTYPE svg PUBLIC \"-//W3C//DTD SVG 1.1//EN\"\n  \"http://www.w3.org/Graphics/SVG/1.1/DTD/svg11.dtd\">\n<!-- Created with matplotlib (https://matplotlib.org/) -->\n<svg height=\"277.314375pt\" version=\"1.1\" viewBox=\"0 0 385.78125 277.314375\" width=\"385.78125pt\" xmlns=\"http://www.w3.org/2000/svg\" xmlns:xlink=\"http://www.w3.org/1999/xlink\">\n <defs>\n  <style type=\"text/css\">\n*{stroke-linecap:butt;stroke-linejoin:round;}\n  </style>\n </defs>\n <g id=\"figure_1\">\n  <g id=\"patch_1\">\n   <path d=\"M 0 277.314375 \nL 385.78125 277.314375 \nL 385.78125 0 \nL 0 0 \nz\n\" style=\"fill:#ffffff;\"/>\n  </g>\n  <g id=\"axes_1\">\n   <g id=\"patch_2\">\n    <path d=\"M 43.78125 239.758125 \nL 378.58125 239.758125 \nL 378.58125 22.318125 \nL 43.78125 22.318125 \nz\n\" style=\"fill:#eaeaf2;\"/>\n   </g>\n   <g id=\"matplotlib.axis_1\">\n    <g id=\"xtick_1\">\n     <g id=\"line2d_1\">\n      <path clip-path=\"url(#pe4d74ff5c1)\" d=\"M 58.999432 239.758125 \nL 58.999432 22.318125 \n\" style=\"fill:none;stroke:#ffffff;stroke-linecap:round;stroke-width:0.8;\"/>\n     </g>\n     <g id=\"text_1\">\n      <!-- 1940 -->\n      <defs>\n       <path d=\"M 12.40625 8.296875 \nL 28.515625 8.296875 \nL 28.515625 63.921875 \nL 10.984375 60.40625 \nL 10.984375 69.390625 \nL 28.421875 72.90625 \nL 38.28125 72.90625 \nL 38.28125 8.296875 \nL 54.390625 8.296875 \nL 54.390625 0 \nL 12.40625 0 \nz\n\" id=\"DejaVuSans-49\"/>\n       <path d=\"M 10.984375 1.515625 \nL 10.984375 10.5 \nQ 14.703125 8.734375 18.5 7.8125 \nQ 22.3125 6.890625 25.984375 6.890625 \nQ 35.75 6.890625 40.890625 13.453125 \nQ 46.046875 20.015625 46.78125 33.40625 \nQ 43.953125 29.203125 39.59375 26.953125 \nQ 35.25 24.703125 29.984375 24.703125 \nQ 19.046875 24.703125 12.671875 31.3125 \nQ 6.296875 37.9375 6.296875 49.421875 \nQ 6.296875 60.640625 12.9375 67.421875 \nQ 19.578125 74.21875 30.609375 74.21875 \nQ 43.265625 74.21875 49.921875 64.515625 \nQ 56.59375 54.828125 56.59375 36.375 \nQ 56.59375 19.140625 48.40625 8.859375 \nQ 40.234375 -1.421875 26.421875 -1.421875 \nQ 22.703125 -1.421875 18.890625 -0.6875 \nQ 15.09375 0.046875 10.984375 1.515625 \nz\nM 30.609375 32.421875 \nQ 37.25 32.421875 41.125 36.953125 \nQ 45.015625 41.5 45.015625 49.421875 \nQ 45.015625 57.28125 41.125 61.84375 \nQ 37.25 66.40625 30.609375 66.40625 \nQ 23.96875 66.40625 20.09375 61.84375 \nQ 16.21875 57.28125 16.21875 49.421875 \nQ 16.21875 41.5 20.09375 36.953125 \nQ 23.96875 32.421875 30.609375 32.421875 \nz\n\" id=\"DejaVuSans-57\"/>\n       <path d=\"M 37.796875 64.3125 \nL 12.890625 25.390625 \nL 37.796875 25.390625 \nz\nM 35.203125 72.90625 \nL 47.609375 72.90625 \nL 47.609375 25.390625 \nL 58.015625 25.390625 \nL 58.015625 17.1875 \nL 47.609375 17.1875 \nL 47.609375 0 \nL 37.796875 0 \nL 37.796875 17.1875 \nL 4.890625 17.1875 \nL 4.890625 26.703125 \nz\n\" id=\"DejaVuSans-52\"/>\n       <path d=\"M 31.78125 66.40625 \nQ 24.171875 66.40625 20.328125 58.90625 \nQ 16.5 51.421875 16.5 36.375 \nQ 16.5 21.390625 20.328125 13.890625 \nQ 24.171875 6.390625 31.78125 6.390625 \nQ 39.453125 6.390625 43.28125 13.890625 \nQ 47.125 21.390625 47.125 36.375 \nQ 47.125 51.421875 43.28125 58.90625 \nQ 39.453125 66.40625 31.78125 66.40625 \nz\nM 31.78125 74.21875 \nQ 44.046875 74.21875 50.515625 64.515625 \nQ 56.984375 54.828125 56.984375 36.375 \nQ 56.984375 17.96875 50.515625 8.265625 \nQ 44.046875 -1.421875 31.78125 -1.421875 \nQ 19.53125 -1.421875 13.0625 8.265625 \nQ 6.59375 17.96875 6.59375 36.375 \nQ 6.59375 54.828125 13.0625 64.515625 \nQ 19.53125 74.21875 31.78125 74.21875 \nz\n\" id=\"DejaVuSans-48\"/>\n      </defs>\n      <g style=\"fill:#262626;\" transform=\"translate(46.274432 254.356562)scale(0.1 -0.1)\">\n       <use xlink:href=\"#DejaVuSans-49\"/>\n       <use x=\"63.623047\" xlink:href=\"#DejaVuSans-57\"/>\n       <use x=\"127.246094\" xlink:href=\"#DejaVuSans-52\"/>\n       <use x=\"190.869141\" xlink:href=\"#DejaVuSans-48\"/>\n      </g>\n     </g>\n    </g>\n    <g id=\"xtick_2\">\n     <g id=\"line2d_2\">\n      <path clip-path=\"url(#pe4d74ff5c1)\" d=\"M 97.044886 239.758125 \nL 97.044886 22.318125 \n\" style=\"fill:none;stroke:#ffffff;stroke-linecap:round;stroke-width:0.8;\"/>\n     </g>\n     <g id=\"text_2\">\n      <!-- 1950 -->\n      <defs>\n       <path d=\"M 10.796875 72.90625 \nL 49.515625 72.90625 \nL 49.515625 64.59375 \nL 19.828125 64.59375 \nL 19.828125 46.734375 \nQ 21.96875 47.46875 24.109375 47.828125 \nQ 26.265625 48.1875 28.421875 48.1875 \nQ 40.625 48.1875 47.75 41.5 \nQ 54.890625 34.8125 54.890625 23.390625 \nQ 54.890625 11.625 47.5625 5.09375 \nQ 40.234375 -1.421875 26.90625 -1.421875 \nQ 22.3125 -1.421875 17.546875 -0.640625 \nQ 12.796875 0.140625 7.71875 1.703125 \nL 7.71875 11.625 \nQ 12.109375 9.234375 16.796875 8.0625 \nQ 21.484375 6.890625 26.703125 6.890625 \nQ 35.15625 6.890625 40.078125 11.328125 \nQ 45.015625 15.765625 45.015625 23.390625 \nQ 45.015625 31 40.078125 35.4375 \nQ 35.15625 39.890625 26.703125 39.890625 \nQ 22.75 39.890625 18.8125 39.015625 \nQ 14.890625 38.140625 10.796875 36.28125 \nz\n\" id=\"DejaVuSans-53\"/>\n      </defs>\n      <g style=\"fill:#262626;\" transform=\"translate(84.319886 254.356562)scale(0.1 -0.1)\">\n       <use xlink:href=\"#DejaVuSans-49\"/>\n       <use x=\"63.623047\" xlink:href=\"#DejaVuSans-57\"/>\n       <use x=\"127.246094\" xlink:href=\"#DejaVuSans-53\"/>\n       <use x=\"190.869141\" xlink:href=\"#DejaVuSans-48\"/>\n      </g>\n     </g>\n    </g>\n    <g id=\"xtick_3\">\n     <g id=\"line2d_3\">\n      <path clip-path=\"url(#pe4d74ff5c1)\" d=\"M 135.090341 239.758125 \nL 135.090341 22.318125 \n\" style=\"fill:none;stroke:#ffffff;stroke-linecap:round;stroke-width:0.8;\"/>\n     </g>\n     <g id=\"text_3\">\n      <!-- 1960 -->\n      <defs>\n       <path d=\"M 33.015625 40.375 \nQ 26.375 40.375 22.484375 35.828125 \nQ 18.609375 31.296875 18.609375 23.390625 \nQ 18.609375 15.53125 22.484375 10.953125 \nQ 26.375 6.390625 33.015625 6.390625 \nQ 39.65625 6.390625 43.53125 10.953125 \nQ 47.40625 15.53125 47.40625 23.390625 \nQ 47.40625 31.296875 43.53125 35.828125 \nQ 39.65625 40.375 33.015625 40.375 \nz\nM 52.59375 71.296875 \nL 52.59375 62.3125 \nQ 48.875 64.0625 45.09375 64.984375 \nQ 41.3125 65.921875 37.59375 65.921875 \nQ 27.828125 65.921875 22.671875 59.328125 \nQ 17.53125 52.734375 16.796875 39.40625 \nQ 19.671875 43.65625 24.015625 45.921875 \nQ 28.375 48.1875 33.59375 48.1875 \nQ 44.578125 48.1875 50.953125 41.515625 \nQ 57.328125 34.859375 57.328125 23.390625 \nQ 57.328125 12.15625 50.6875 5.359375 \nQ 44.046875 -1.421875 33.015625 -1.421875 \nQ 20.359375 -1.421875 13.671875 8.265625 \nQ 6.984375 17.96875 6.984375 36.375 \nQ 6.984375 53.65625 15.1875 63.9375 \nQ 23.390625 74.21875 37.203125 74.21875 \nQ 40.921875 74.21875 44.703125 73.484375 \nQ 48.484375 72.75 52.59375 71.296875 \nz\n\" id=\"DejaVuSans-54\"/>\n      </defs>\n      <g style=\"fill:#262626;\" transform=\"translate(122.365341 254.356562)scale(0.1 -0.1)\">\n       <use xlink:href=\"#DejaVuSans-49\"/>\n       <use x=\"63.623047\" xlink:href=\"#DejaVuSans-57\"/>\n       <use x=\"127.246094\" xlink:href=\"#DejaVuSans-54\"/>\n       <use x=\"190.869141\" xlink:href=\"#DejaVuSans-48\"/>\n      </g>\n     </g>\n    </g>\n    <g id=\"xtick_4\">\n     <g id=\"line2d_4\">\n      <path clip-path=\"url(#pe4d74ff5c1)\" d=\"M 173.135795 239.758125 \nL 173.135795 22.318125 \n\" style=\"fill:none;stroke:#ffffff;stroke-linecap:round;stroke-width:0.8;\"/>\n     </g>\n     <g id=\"text_4\">\n      <!-- 1970 -->\n      <defs>\n       <path d=\"M 8.203125 72.90625 \nL 55.078125 72.90625 \nL 55.078125 68.703125 \nL 28.609375 0 \nL 18.3125 0 \nL 43.21875 64.59375 \nL 8.203125 64.59375 \nz\n\" id=\"DejaVuSans-55\"/>\n      </defs>\n      <g style=\"fill:#262626;\" transform=\"translate(160.410795 254.356562)scale(0.1 -0.1)\">\n       <use xlink:href=\"#DejaVuSans-49\"/>\n       <use x=\"63.623047\" xlink:href=\"#DejaVuSans-57\"/>\n       <use x=\"127.246094\" xlink:href=\"#DejaVuSans-55\"/>\n       <use x=\"190.869141\" xlink:href=\"#DejaVuSans-48\"/>\n      </g>\n     </g>\n    </g>\n    <g id=\"xtick_5\">\n     <g id=\"line2d_5\">\n      <path clip-path=\"url(#pe4d74ff5c1)\" d=\"M 211.18125 239.758125 \nL 211.18125 22.318125 \n\" style=\"fill:none;stroke:#ffffff;stroke-linecap:round;stroke-width:0.8;\"/>\n     </g>\n     <g id=\"text_5\">\n      <!-- 1980 -->\n      <defs>\n       <path d=\"M 31.78125 34.625 \nQ 24.75 34.625 20.71875 30.859375 \nQ 16.703125 27.09375 16.703125 20.515625 \nQ 16.703125 13.921875 20.71875 10.15625 \nQ 24.75 6.390625 31.78125 6.390625 \nQ 38.8125 6.390625 42.859375 10.171875 \nQ 46.921875 13.96875 46.921875 20.515625 \nQ 46.921875 27.09375 42.890625 30.859375 \nQ 38.875 34.625 31.78125 34.625 \nz\nM 21.921875 38.8125 \nQ 15.578125 40.375 12.03125 44.71875 \nQ 8.5 49.078125 8.5 55.328125 \nQ 8.5 64.0625 14.71875 69.140625 \nQ 20.953125 74.21875 31.78125 74.21875 \nQ 42.671875 74.21875 48.875 69.140625 \nQ 55.078125 64.0625 55.078125 55.328125 \nQ 55.078125 49.078125 51.53125 44.71875 \nQ 48 40.375 41.703125 38.8125 \nQ 48.828125 37.15625 52.796875 32.3125 \nQ 56.78125 27.484375 56.78125 20.515625 \nQ 56.78125 9.90625 50.3125 4.234375 \nQ 43.84375 -1.421875 31.78125 -1.421875 \nQ 19.734375 -1.421875 13.25 4.234375 \nQ 6.78125 9.90625 6.78125 20.515625 \nQ 6.78125 27.484375 10.78125 32.3125 \nQ 14.796875 37.15625 21.921875 38.8125 \nz\nM 18.3125 54.390625 \nQ 18.3125 48.734375 21.84375 45.5625 \nQ 25.390625 42.390625 31.78125 42.390625 \nQ 38.140625 42.390625 41.71875 45.5625 \nQ 45.3125 48.734375 45.3125 54.390625 \nQ 45.3125 60.0625 41.71875 63.234375 \nQ 38.140625 66.40625 31.78125 66.40625 \nQ 25.390625 66.40625 21.84375 63.234375 \nQ 18.3125 60.0625 18.3125 54.390625 \nz\n\" id=\"DejaVuSans-56\"/>\n      </defs>\n      <g style=\"fill:#262626;\" transform=\"translate(198.45625 254.356562)scale(0.1 -0.1)\">\n       <use xlink:href=\"#DejaVuSans-49\"/>\n       <use x=\"63.623047\" xlink:href=\"#DejaVuSans-57\"/>\n       <use x=\"127.246094\" xlink:href=\"#DejaVuSans-56\"/>\n       <use x=\"190.869141\" xlink:href=\"#DejaVuSans-48\"/>\n      </g>\n     </g>\n    </g>\n    <g id=\"xtick_6\">\n     <g id=\"line2d_6\">\n      <path clip-path=\"url(#pe4d74ff5c1)\" d=\"M 249.226705 239.758125 \nL 249.226705 22.318125 \n\" style=\"fill:none;stroke:#ffffff;stroke-linecap:round;stroke-width:0.8;\"/>\n     </g>\n     <g id=\"text_6\">\n      <!-- 1990 -->\n      <g style=\"fill:#262626;\" transform=\"translate(236.501705 254.356562)scale(0.1 -0.1)\">\n       <use xlink:href=\"#DejaVuSans-49\"/>\n       <use x=\"63.623047\" xlink:href=\"#DejaVuSans-57\"/>\n       <use x=\"127.246094\" xlink:href=\"#DejaVuSans-57\"/>\n       <use x=\"190.869141\" xlink:href=\"#DejaVuSans-48\"/>\n      </g>\n     </g>\n    </g>\n    <g id=\"xtick_7\">\n     <g id=\"line2d_7\">\n      <path clip-path=\"url(#pe4d74ff5c1)\" d=\"M 287.272159 239.758125 \nL 287.272159 22.318125 \n\" style=\"fill:none;stroke:#ffffff;stroke-linecap:round;stroke-width:0.8;\"/>\n     </g>\n     <g id=\"text_7\">\n      <!-- 2000 -->\n      <defs>\n       <path d=\"M 19.1875 8.296875 \nL 53.609375 8.296875 \nL 53.609375 0 \nL 7.328125 0 \nL 7.328125 8.296875 \nQ 12.9375 14.109375 22.625 23.890625 \nQ 32.328125 33.6875 34.8125 36.53125 \nQ 39.546875 41.84375 41.421875 45.53125 \nQ 43.3125 49.21875 43.3125 52.78125 \nQ 43.3125 58.59375 39.234375 62.25 \nQ 35.15625 65.921875 28.609375 65.921875 \nQ 23.96875 65.921875 18.8125 64.3125 \nQ 13.671875 62.703125 7.8125 59.421875 \nL 7.8125 69.390625 \nQ 13.765625 71.78125 18.9375 73 \nQ 24.125 74.21875 28.421875 74.21875 \nQ 39.75 74.21875 46.484375 68.546875 \nQ 53.21875 62.890625 53.21875 53.421875 \nQ 53.21875 48.921875 51.53125 44.890625 \nQ 49.859375 40.875 45.40625 35.40625 \nQ 44.1875 33.984375 37.640625 27.21875 \nQ 31.109375 20.453125 19.1875 8.296875 \nz\n\" id=\"DejaVuSans-50\"/>\n      </defs>\n      <g style=\"fill:#262626;\" transform=\"translate(274.547159 254.356562)scale(0.1 -0.1)\">\n       <use xlink:href=\"#DejaVuSans-50\"/>\n       <use x=\"63.623047\" xlink:href=\"#DejaVuSans-48\"/>\n       <use x=\"127.246094\" xlink:href=\"#DejaVuSans-48\"/>\n       <use x=\"190.869141\" xlink:href=\"#DejaVuSans-48\"/>\n      </g>\n     </g>\n    </g>\n    <g id=\"xtick_8\">\n     <g id=\"line2d_8\">\n      <path clip-path=\"url(#pe4d74ff5c1)\" d=\"M 325.317614 239.758125 \nL 325.317614 22.318125 \n\" style=\"fill:none;stroke:#ffffff;stroke-linecap:round;stroke-width:0.8;\"/>\n     </g>\n     <g id=\"text_8\">\n      <!-- 2010 -->\n      <g style=\"fill:#262626;\" transform=\"translate(312.592614 254.356562)scale(0.1 -0.1)\">\n       <use xlink:href=\"#DejaVuSans-50\"/>\n       <use x=\"63.623047\" xlink:href=\"#DejaVuSans-48\"/>\n       <use x=\"127.246094\" xlink:href=\"#DejaVuSans-49\"/>\n       <use x=\"190.869141\" xlink:href=\"#DejaVuSans-48\"/>\n      </g>\n     </g>\n    </g>\n    <g id=\"xtick_9\">\n     <g id=\"line2d_9\">\n      <path clip-path=\"url(#pe4d74ff5c1)\" d=\"M 363.363068 239.758125 \nL 363.363068 22.318125 \n\" style=\"fill:none;stroke:#ffffff;stroke-linecap:round;stroke-width:0.8;\"/>\n     </g>\n     <g id=\"text_9\">\n      <!-- 2020 -->\n      <g style=\"fill:#262626;\" transform=\"translate(350.638068 254.356562)scale(0.1 -0.1)\">\n       <use xlink:href=\"#DejaVuSans-50\"/>\n       <use x=\"63.623047\" xlink:href=\"#DejaVuSans-48\"/>\n       <use x=\"127.246094\" xlink:href=\"#DejaVuSans-50\"/>\n       <use x=\"190.869141\" xlink:href=\"#DejaVuSans-48\"/>\n      </g>\n     </g>\n    </g>\n    <g id=\"text_10\">\n     <!-- Decade -->\n     <defs>\n      <path d=\"M 19.671875 64.796875 \nL 19.671875 8.109375 \nL 31.59375 8.109375 \nQ 46.6875 8.109375 53.6875 14.9375 \nQ 60.6875 21.78125 60.6875 36.53125 \nQ 60.6875 51.171875 53.6875 57.984375 \nQ 46.6875 64.796875 31.59375 64.796875 \nz\nM 9.8125 72.90625 \nL 30.078125 72.90625 \nQ 51.265625 72.90625 61.171875 64.09375 \nQ 71.09375 55.28125 71.09375 36.53125 \nQ 71.09375 17.671875 61.125 8.828125 \nQ 51.171875 0 30.078125 0 \nL 9.8125 0 \nz\n\" id=\"DejaVuSans-68\"/>\n      <path d=\"M 56.203125 29.59375 \nL 56.203125 25.203125 \nL 14.890625 25.203125 \nQ 15.484375 15.921875 20.484375 11.0625 \nQ 25.484375 6.203125 34.421875 6.203125 \nQ 39.59375 6.203125 44.453125 7.46875 \nQ 49.3125 8.734375 54.109375 11.28125 \nL 54.109375 2.78125 \nQ 49.265625 0.734375 44.1875 -0.34375 \nQ 39.109375 -1.421875 33.890625 -1.421875 \nQ 20.796875 -1.421875 13.15625 6.1875 \nQ 5.515625 13.8125 5.515625 26.8125 \nQ 5.515625 40.234375 12.765625 48.109375 \nQ 20.015625 56 32.328125 56 \nQ 43.359375 56 49.78125 48.890625 \nQ 56.203125 41.796875 56.203125 29.59375 \nz\nM 47.21875 32.234375 \nQ 47.125 39.59375 43.09375 43.984375 \nQ 39.0625 48.390625 32.421875 48.390625 \nQ 24.90625 48.390625 20.390625 44.140625 \nQ 15.875 39.890625 15.1875 32.171875 \nz\n\" id=\"DejaVuSans-101\"/>\n      <path d=\"M 48.78125 52.59375 \nL 48.78125 44.1875 \nQ 44.96875 46.296875 41.140625 47.34375 \nQ 37.3125 48.390625 33.40625 48.390625 \nQ 24.65625 48.390625 19.8125 42.84375 \nQ 14.984375 37.3125 14.984375 27.296875 \nQ 14.984375 17.28125 19.8125 11.734375 \nQ 24.65625 6.203125 33.40625 6.203125 \nQ 37.3125 6.203125 41.140625 7.25 \nQ 44.96875 8.296875 48.78125 10.40625 \nL 48.78125 2.09375 \nQ 45.015625 0.34375 40.984375 -0.53125 \nQ 36.96875 -1.421875 32.421875 -1.421875 \nQ 20.0625 -1.421875 12.78125 6.34375 \nQ 5.515625 14.109375 5.515625 27.296875 \nQ 5.515625 40.671875 12.859375 48.328125 \nQ 20.21875 56 33.015625 56 \nQ 37.15625 56 41.109375 55.140625 \nQ 45.0625 54.296875 48.78125 52.59375 \nz\n\" id=\"DejaVuSans-99\"/>\n      <path d=\"M 34.28125 27.484375 \nQ 23.390625 27.484375 19.1875 25 \nQ 14.984375 22.515625 14.984375 16.5 \nQ 14.984375 11.71875 18.140625 8.90625 \nQ 21.296875 6.109375 26.703125 6.109375 \nQ 34.1875 6.109375 38.703125 11.40625 \nQ 43.21875 16.703125 43.21875 25.484375 \nL 43.21875 27.484375 \nz\nM 52.203125 31.203125 \nL 52.203125 0 \nL 43.21875 0 \nL 43.21875 8.296875 \nQ 40.140625 3.328125 35.546875 0.953125 \nQ 30.953125 -1.421875 24.3125 -1.421875 \nQ 15.921875 -1.421875 10.953125 3.296875 \nQ 6 8.015625 6 15.921875 \nQ 6 25.140625 12.171875 29.828125 \nQ 18.359375 34.515625 30.609375 34.515625 \nL 43.21875 34.515625 \nL 43.21875 35.40625 \nQ 43.21875 41.609375 39.140625 45 \nQ 35.0625 48.390625 27.6875 48.390625 \nQ 23 48.390625 18.546875 47.265625 \nQ 14.109375 46.140625 10.015625 43.890625 \nL 10.015625 52.203125 \nQ 14.9375 54.109375 19.578125 55.046875 \nQ 24.21875 56 28.609375 56 \nQ 40.484375 56 46.34375 49.84375 \nQ 52.203125 43.703125 52.203125 31.203125 \nz\n\" id=\"DejaVuSans-97\"/>\n      <path d=\"M 45.40625 46.390625 \nL 45.40625 75.984375 \nL 54.390625 75.984375 \nL 54.390625 0 \nL 45.40625 0 \nL 45.40625 8.203125 \nQ 42.578125 3.328125 38.25 0.953125 \nQ 33.9375 -1.421875 27.875 -1.421875 \nQ 17.96875 -1.421875 11.734375 6.484375 \nQ 5.515625 14.40625 5.515625 27.296875 \nQ 5.515625 40.1875 11.734375 48.09375 \nQ 17.96875 56 27.875 56 \nQ 33.9375 56 38.25 53.625 \nQ 42.578125 51.265625 45.40625 46.390625 \nz\nM 14.796875 27.296875 \nQ 14.796875 17.390625 18.875 11.75 \nQ 22.953125 6.109375 30.078125 6.109375 \nQ 37.203125 6.109375 41.296875 11.75 \nQ 45.40625 17.390625 45.40625 27.296875 \nQ 45.40625 37.203125 41.296875 42.84375 \nQ 37.203125 48.484375 30.078125 48.484375 \nQ 22.953125 48.484375 18.875 42.84375 \nQ 14.796875 37.203125 14.796875 27.296875 \nz\n\" id=\"DejaVuSans-100\"/>\n     </defs>\n     <g style=\"fill:#262626;\" transform=\"translate(192.190625 268.034687)scale(0.1 -0.1)\">\n      <use xlink:href=\"#DejaVuSans-68\"/>\n      <use x=\"77.001953\" xlink:href=\"#DejaVuSans-101\"/>\n      <use x=\"138.525391\" xlink:href=\"#DejaVuSans-99\"/>\n      <use x=\"193.505859\" xlink:href=\"#DejaVuSans-97\"/>\n      <use x=\"254.785156\" xlink:href=\"#DejaVuSans-100\"/>\n      <use x=\"318.261719\" xlink:href=\"#DejaVuSans-101\"/>\n     </g>\n    </g>\n   </g>\n   <g id=\"matplotlib.axis_2\">\n    <g id=\"ytick_1\">\n     <g id=\"line2d_10\">\n      <path clip-path=\"url(#pe4d74ff5c1)\" d=\"M 43.78125 229.874489 \nL 378.58125 229.874489 \n\" style=\"fill:none;stroke:#ffffff;stroke-linecap:round;stroke-width:0.8;\"/>\n     </g>\n     <g id=\"text_11\">\n      <!-- 0.0 -->\n      <defs>\n       <path d=\"M 10.6875 12.40625 \nL 21 12.40625 \nL 21 0 \nL 10.6875 0 \nz\n\" id=\"DejaVuSans-46\"/>\n      </defs>\n      <g style=\"fill:#262626;\" transform=\"translate(20.878125 233.673707)scale(0.1 -0.1)\">\n       <use xlink:href=\"#DejaVuSans-48\"/>\n       <use x=\"63.623047\" xlink:href=\"#DejaVuSans-46\"/>\n       <use x=\"95.410156\" xlink:href=\"#DejaVuSans-48\"/>\n      </g>\n     </g>\n    </g>\n    <g id=\"ytick_2\">\n     <g id=\"line2d_11\">\n      <path clip-path=\"url(#pe4d74ff5c1)\" d=\"M 43.78125 183.428829 \nL 378.58125 183.428829 \n\" style=\"fill:none;stroke:#ffffff;stroke-linecap:round;stroke-width:0.8;\"/>\n     </g>\n     <g id=\"text_12\">\n      <!-- 0.2 -->\n      <g style=\"fill:#262626;\" transform=\"translate(20.878125 187.228048)scale(0.1 -0.1)\">\n       <use xlink:href=\"#DejaVuSans-48\"/>\n       <use x=\"63.623047\" xlink:href=\"#DejaVuSans-46\"/>\n       <use x=\"95.410156\" xlink:href=\"#DejaVuSans-50\"/>\n      </g>\n     </g>\n    </g>\n    <g id=\"ytick_3\">\n     <g id=\"line2d_12\">\n      <path clip-path=\"url(#pe4d74ff5c1)\" d=\"M 43.78125 136.98317 \nL 378.58125 136.98317 \n\" style=\"fill:none;stroke:#ffffff;stroke-linecap:round;stroke-width:0.8;\"/>\n     </g>\n     <g id=\"text_13\">\n      <!-- 0.4 -->\n      <g style=\"fill:#262626;\" transform=\"translate(20.878125 140.782389)scale(0.1 -0.1)\">\n       <use xlink:href=\"#DejaVuSans-48\"/>\n       <use x=\"63.623047\" xlink:href=\"#DejaVuSans-46\"/>\n       <use x=\"95.410156\" xlink:href=\"#DejaVuSans-52\"/>\n      </g>\n     </g>\n    </g>\n    <g id=\"ytick_4\">\n     <g id=\"line2d_13\">\n      <path clip-path=\"url(#pe4d74ff5c1)\" d=\"M 43.78125 90.537511 \nL 378.58125 90.537511 \n\" style=\"fill:none;stroke:#ffffff;stroke-linecap:round;stroke-width:0.8;\"/>\n     </g>\n     <g id=\"text_14\">\n      <!-- 0.6 -->\n      <g style=\"fill:#262626;\" transform=\"translate(20.878125 94.33673)scale(0.1 -0.1)\">\n       <use xlink:href=\"#DejaVuSans-48\"/>\n       <use x=\"63.623047\" xlink:href=\"#DejaVuSans-46\"/>\n       <use x=\"95.410156\" xlink:href=\"#DejaVuSans-54\"/>\n      </g>\n     </g>\n    </g>\n    <g id=\"ytick_5\">\n     <g id=\"line2d_14\">\n      <path clip-path=\"url(#pe4d74ff5c1)\" d=\"M 43.78125 44.091852 \nL 378.58125 44.091852 \n\" style=\"fill:none;stroke:#ffffff;stroke-linecap:round;stroke-width:0.8;\"/>\n     </g>\n     <g id=\"text_15\">\n      <!-- 0.8 -->\n      <g style=\"fill:#262626;\" transform=\"translate(20.878125 47.891071)scale(0.1 -0.1)\">\n       <use xlink:href=\"#DejaVuSans-48\"/>\n       <use x=\"63.623047\" xlink:href=\"#DejaVuSans-46\"/>\n       <use x=\"95.410156\" xlink:href=\"#DejaVuSans-56\"/>\n      </g>\n     </g>\n    </g>\n    <g id=\"text_16\">\n     <!-- value -->\n     <defs>\n      <path d=\"M 2.984375 54.6875 \nL 12.5 54.6875 \nL 29.59375 8.796875 \nL 46.6875 54.6875 \nL 56.203125 54.6875 \nL 35.6875 0 \nL 23.484375 0 \nz\n\" id=\"DejaVuSans-118\"/>\n      <path d=\"M 9.421875 75.984375 \nL 18.40625 75.984375 \nL 18.40625 0 \nL 9.421875 0 \nz\n\" id=\"DejaVuSans-108\"/>\n      <path d=\"M 8.5 21.578125 \nL 8.5 54.6875 \nL 17.484375 54.6875 \nL 17.484375 21.921875 \nQ 17.484375 14.15625 20.5 10.265625 \nQ 23.53125 6.390625 29.59375 6.390625 \nQ 36.859375 6.390625 41.078125 11.03125 \nQ 45.3125 15.671875 45.3125 23.6875 \nL 45.3125 54.6875 \nL 54.296875 54.6875 \nL 54.296875 0 \nL 45.3125 0 \nL 45.3125 8.40625 \nQ 42.046875 3.421875 37.71875 1 \nQ 33.40625 -1.421875 27.6875 -1.421875 \nQ 18.265625 -1.421875 13.375 4.4375 \nQ 8.5 10.296875 8.5 21.578125 \nz\nM 31.109375 56 \nz\n\" id=\"DejaVuSans-117\"/>\n     </defs>\n     <g style=\"fill:#262626;\" transform=\"translate(14.798438 144.695937)rotate(-90)scale(0.1 -0.1)\">\n      <use xlink:href=\"#DejaVuSans-118\"/>\n      <use x=\"59.179688\" xlink:href=\"#DejaVuSans-97\"/>\n      <use x=\"120.458984\" xlink:href=\"#DejaVuSans-108\"/>\n      <use x=\"148.242188\" xlink:href=\"#DejaVuSans-117\"/>\n      <use x=\"211.621094\" xlink:href=\"#DejaVuSans-101\"/>\n     </g>\n    </g>\n   </g>\n   <g id=\"line2d_15\">\n    <path clip-path=\"url(#pe4d74ff5c1)\" d=\"M 58.999432 192.021277 \nL 97.044886 91.00197 \nL 135.090341 54.830313 \nL 173.135795 67.887219 \nL 211.18125 82.195022 \nL 249.226705 105.077252 \nL 287.272159 104.703206 \nL 325.317614 110.71845 \nL 363.363068 117.261867 \n\" style=\"fill:none;stroke:#f77189;stroke-linecap:round;stroke-width:1.5;\"/>\n   </g>\n   <g id=\"line2d_16\">\n    <path clip-path=\"url(#pe4d74ff5c1)\" d=\"M 58.999432 189.559656 \nL 97.044886 179.24872 \nL 135.090341 132.585663 \nL 173.135795 106.827084 \nL 211.18125 91.685162 \nL 249.226705 94.555325 \nL 287.272159 71.663128 \nL 325.317614 84.990857 \nL 363.363068 80.031914 \n\" style=\"fill:none;stroke:#c69432;stroke-linecap:round;stroke-width:1.5;\"/>\n   </g>\n   <g id=\"line2d_17\">\n    <path clip-path=\"url(#pe4d74ff5c1)\" d=\"M 58.999432 220.859386 \nL 97.044886 213.258554 \nL 135.090341 218.334421 \nL 173.135795 219.086827 \nL 211.18125 216.558749 \nL 249.226705 218.541351 \nL 287.272159 213.695956 \nL 325.317614 214.974784 \nL 363.363068 199.52782 \n\" style=\"fill:none;stroke:#82a931;stroke-linecap:round;stroke-width:1.5;\"/>\n   </g>\n   <g id=\"line2d_18\">\n    <path clip-path=\"url(#pe4d74ff5c1)\" d=\"M 58.999432 162.24961 \nL 97.044886 181.106545 \nL 135.090341 186.086025 \nL 173.135795 190.783748 \nL 211.18125 182.558792 \nL 249.226705 183.966527 \nL 287.272159 182.176953 \nL 325.317614 187.952637 \nL 363.363068 189.471337 \n\" style=\"fill:none;stroke:#34af8a;stroke-linecap:round;stroke-width:1.5;\"/>\n   </g>\n   <g id=\"line2d_19\">\n    <path clip-path=\"url(#pe4d74ff5c1)\" d=\"M 58.999432 178.691372 \nL 97.044886 116.895424 \nL 135.090341 103.547892 \nL 173.135795 92.995625 \nL 211.18125 85.294547 \nL 249.226705 105.975929 \nL 287.272159 93.217957 \nL 325.317614 95.372757 \nL 363.363068 72.793939 \n\" style=\"fill:none;stroke:#37aabb;stroke-linecap:round;stroke-width:1.5;\"/>\n   </g>\n   <g id=\"line2d_20\">\n    <path clip-path=\"url(#pe4d74ff5c1)\" d=\"M 58.999432 196.445691 \nL 97.044886 229.874489 \nL 135.090341 229.372034 \nL 173.135795 226.709385 \nL 211.18125 225.279354 \nL 249.226705 224.948686 \nL 287.272159 223.456154 \nL 325.317614 225.075765 \nL 363.363068 226.449011 \n\" style=\"fill:none;stroke:#8197f4;stroke-linecap:round;stroke-width:1.5;\"/>\n   </g>\n   <g id=\"line2d_21\">\n    <path clip-path=\"url(#pe4d74ff5c1)\" d=\"M 58.999432 32.201761 \nL 97.044886 65.456854 \nL 135.090341 58.0927 \nL 173.135795 144.408926 \nL 211.18125 168.523739 \nL 249.226705 159.229529 \nL 287.272159 172.957868 \nL 325.317614 155.655951 \nL 363.363068 175.479265 \n\" style=\"fill:none;stroke:#f45deb;stroke-linecap:round;stroke-width:1.5;\"/>\n   </g>\n   <g id=\"line2d_22\"/>\n   <g id=\"line2d_23\"/>\n   <g id=\"line2d_24\"/>\n   <g id=\"line2d_25\"/>\n   <g id=\"line2d_26\"/>\n   <g id=\"line2d_27\"/>\n   <g id=\"line2d_28\"/>\n   <g id=\"patch_3\">\n    <path d=\"M 43.78125 239.758125 \nL 43.78125 22.318125 \n\" style=\"fill:none;stroke:#ffffff;stroke-linecap:square;stroke-linejoin:miter;stroke-width:0.8;\"/>\n   </g>\n   <g id=\"patch_4\">\n    <path d=\"M 378.58125 239.758125 \nL 378.58125 22.318125 \n\" style=\"fill:none;stroke:#ffffff;stroke-linecap:square;stroke-linejoin:miter;stroke-width:0.8;\"/>\n   </g>\n   <g id=\"patch_5\">\n    <path d=\"M 43.78125 239.758125 \nL 378.58125 239.758125 \n\" style=\"fill:none;stroke:#ffffff;stroke-linecap:square;stroke-linejoin:miter;stroke-width:0.8;\"/>\n   </g>\n   <g id=\"patch_6\">\n    <path d=\"M 43.78125 22.318125 \nL 378.58125 22.318125 \n\" style=\"fill:none;stroke:#ffffff;stroke-linecap:square;stroke-linejoin:miter;stroke-width:0.8;\"/>\n   </g>\n   <g id=\"text_17\">\n    <!-- Song Characteristics Over the Decades -->\n    <defs>\n     <path d=\"M 53.515625 70.515625 \nL 53.515625 60.890625 \nQ 47.90625 63.578125 42.921875 64.890625 \nQ 37.9375 66.21875 33.296875 66.21875 \nQ 25.25 66.21875 20.875 63.09375 \nQ 16.5 59.96875 16.5 54.203125 \nQ 16.5 49.359375 19.40625 46.890625 \nQ 22.3125 44.4375 30.421875 42.921875 \nL 36.375 41.703125 \nQ 47.40625 39.59375 52.65625 34.296875 \nQ 57.90625 29 57.90625 20.125 \nQ 57.90625 9.515625 50.796875 4.046875 \nQ 43.703125 -1.421875 29.984375 -1.421875 \nQ 24.8125 -1.421875 18.96875 -0.25 \nQ 13.140625 0.921875 6.890625 3.21875 \nL 6.890625 13.375 \nQ 12.890625 10.015625 18.65625 8.296875 \nQ 24.421875 6.59375 29.984375 6.59375 \nQ 38.421875 6.59375 43.015625 9.90625 \nQ 47.609375 13.234375 47.609375 19.390625 \nQ 47.609375 24.75 44.3125 27.78125 \nQ 41.015625 30.8125 33.5 32.328125 \nL 27.484375 33.5 \nQ 16.453125 35.6875 11.515625 40.375 \nQ 6.59375 45.0625 6.59375 53.421875 \nQ 6.59375 63.09375 13.40625 68.65625 \nQ 20.21875 74.21875 32.171875 74.21875 \nQ 37.3125 74.21875 42.625 73.28125 \nQ 47.953125 72.359375 53.515625 70.515625 \nz\n\" id=\"DejaVuSans-83\"/>\n     <path d=\"M 30.609375 48.390625 \nQ 23.390625 48.390625 19.1875 42.75 \nQ 14.984375 37.109375 14.984375 27.296875 \nQ 14.984375 17.484375 19.15625 11.84375 \nQ 23.34375 6.203125 30.609375 6.203125 \nQ 37.796875 6.203125 41.984375 11.859375 \nQ 46.1875 17.53125 46.1875 27.296875 \nQ 46.1875 37.015625 41.984375 42.703125 \nQ 37.796875 48.390625 30.609375 48.390625 \nz\nM 30.609375 56 \nQ 42.328125 56 49.015625 48.375 \nQ 55.71875 40.765625 55.71875 27.296875 \nQ 55.71875 13.875 49.015625 6.21875 \nQ 42.328125 -1.421875 30.609375 -1.421875 \nQ 18.84375 -1.421875 12.171875 6.21875 \nQ 5.515625 13.875 5.515625 27.296875 \nQ 5.515625 40.765625 12.171875 48.375 \nQ 18.84375 56 30.609375 56 \nz\n\" id=\"DejaVuSans-111\"/>\n     <path d=\"M 54.890625 33.015625 \nL 54.890625 0 \nL 45.90625 0 \nL 45.90625 32.71875 \nQ 45.90625 40.484375 42.875 44.328125 \nQ 39.84375 48.1875 33.796875 48.1875 \nQ 26.515625 48.1875 22.3125 43.546875 \nQ 18.109375 38.921875 18.109375 30.90625 \nL 18.109375 0 \nL 9.078125 0 \nL 9.078125 54.6875 \nL 18.109375 54.6875 \nL 18.109375 46.1875 \nQ 21.34375 51.125 25.703125 53.5625 \nQ 30.078125 56 35.796875 56 \nQ 45.21875 56 50.046875 50.171875 \nQ 54.890625 44.34375 54.890625 33.015625 \nz\n\" id=\"DejaVuSans-110\"/>\n     <path d=\"M 45.40625 27.984375 \nQ 45.40625 37.75 41.375 43.109375 \nQ 37.359375 48.484375 30.078125 48.484375 \nQ 22.859375 48.484375 18.828125 43.109375 \nQ 14.796875 37.75 14.796875 27.984375 \nQ 14.796875 18.265625 18.828125 12.890625 \nQ 22.859375 7.515625 30.078125 7.515625 \nQ 37.359375 7.515625 41.375 12.890625 \nQ 45.40625 18.265625 45.40625 27.984375 \nz\nM 54.390625 6.78125 \nQ 54.390625 -7.171875 48.1875 -13.984375 \nQ 42 -20.796875 29.203125 -20.796875 \nQ 24.46875 -20.796875 20.265625 -20.09375 \nQ 16.0625 -19.390625 12.109375 -17.921875 \nL 12.109375 -9.1875 \nQ 16.0625 -11.328125 19.921875 -12.34375 \nQ 23.78125 -13.375 27.78125 -13.375 \nQ 36.625 -13.375 41.015625 -8.765625 \nQ 45.40625 -4.15625 45.40625 5.171875 \nL 45.40625 9.625 \nQ 42.625 4.78125 38.28125 2.390625 \nQ 33.9375 0 27.875 0 \nQ 17.828125 0 11.671875 7.65625 \nQ 5.515625 15.328125 5.515625 27.984375 \nQ 5.515625 40.671875 11.671875 48.328125 \nQ 17.828125 56 27.875 56 \nQ 33.9375 56 38.28125 53.609375 \nQ 42.625 51.21875 45.40625 46.390625 \nL 45.40625 54.6875 \nL 54.390625 54.6875 \nz\n\" id=\"DejaVuSans-103\"/>\n     <path id=\"DejaVuSans-32\"/>\n     <path d=\"M 64.40625 67.28125 \nL 64.40625 56.890625 \nQ 59.421875 61.53125 53.78125 63.8125 \nQ 48.140625 66.109375 41.796875 66.109375 \nQ 29.296875 66.109375 22.65625 58.46875 \nQ 16.015625 50.828125 16.015625 36.375 \nQ 16.015625 21.96875 22.65625 14.328125 \nQ 29.296875 6.6875 41.796875 6.6875 \nQ 48.140625 6.6875 53.78125 8.984375 \nQ 59.421875 11.28125 64.40625 15.921875 \nL 64.40625 5.609375 \nQ 59.234375 2.09375 53.4375 0.328125 \nQ 47.65625 -1.421875 41.21875 -1.421875 \nQ 24.65625 -1.421875 15.125 8.703125 \nQ 5.609375 18.84375 5.609375 36.375 \nQ 5.609375 53.953125 15.125 64.078125 \nQ 24.65625 74.21875 41.21875 74.21875 \nQ 47.75 74.21875 53.53125 72.484375 \nQ 59.328125 70.75 64.40625 67.28125 \nz\n\" id=\"DejaVuSans-67\"/>\n     <path d=\"M 54.890625 33.015625 \nL 54.890625 0 \nL 45.90625 0 \nL 45.90625 32.71875 \nQ 45.90625 40.484375 42.875 44.328125 \nQ 39.84375 48.1875 33.796875 48.1875 \nQ 26.515625 48.1875 22.3125 43.546875 \nQ 18.109375 38.921875 18.109375 30.90625 \nL 18.109375 0 \nL 9.078125 0 \nL 9.078125 75.984375 \nL 18.109375 75.984375 \nL 18.109375 46.1875 \nQ 21.34375 51.125 25.703125 53.5625 \nQ 30.078125 56 35.796875 56 \nQ 45.21875 56 50.046875 50.171875 \nQ 54.890625 44.34375 54.890625 33.015625 \nz\n\" id=\"DejaVuSans-104\"/>\n     <path d=\"M 41.109375 46.296875 \nQ 39.59375 47.171875 37.8125 47.578125 \nQ 36.03125 48 33.890625 48 \nQ 26.265625 48 22.1875 43.046875 \nQ 18.109375 38.09375 18.109375 28.8125 \nL 18.109375 0 \nL 9.078125 0 \nL 9.078125 54.6875 \nL 18.109375 54.6875 \nL 18.109375 46.1875 \nQ 20.953125 51.171875 25.484375 53.578125 \nQ 30.03125 56 36.53125 56 \nQ 37.453125 56 38.578125 55.875 \nQ 39.703125 55.765625 41.0625 55.515625 \nz\n\" id=\"DejaVuSans-114\"/>\n     <path d=\"M 18.3125 70.21875 \nL 18.3125 54.6875 \nL 36.8125 54.6875 \nL 36.8125 47.703125 \nL 18.3125 47.703125 \nL 18.3125 18.015625 \nQ 18.3125 11.328125 20.140625 9.421875 \nQ 21.96875 7.515625 27.59375 7.515625 \nL 36.8125 7.515625 \nL 36.8125 0 \nL 27.59375 0 \nQ 17.1875 0 13.234375 3.875 \nQ 9.28125 7.765625 9.28125 18.015625 \nL 9.28125 47.703125 \nL 2.6875 47.703125 \nL 2.6875 54.6875 \nL 9.28125 54.6875 \nL 9.28125 70.21875 \nz\n\" id=\"DejaVuSans-116\"/>\n     <path d=\"M 9.421875 54.6875 \nL 18.40625 54.6875 \nL 18.40625 0 \nL 9.421875 0 \nz\nM 9.421875 75.984375 \nL 18.40625 75.984375 \nL 18.40625 64.59375 \nL 9.421875 64.59375 \nz\n\" id=\"DejaVuSans-105\"/>\n     <path d=\"M 44.28125 53.078125 \nL 44.28125 44.578125 \nQ 40.484375 46.53125 36.375 47.5 \nQ 32.28125 48.484375 27.875 48.484375 \nQ 21.1875 48.484375 17.84375 46.4375 \nQ 14.5 44.390625 14.5 40.28125 \nQ 14.5 37.15625 16.890625 35.375 \nQ 19.28125 33.59375 26.515625 31.984375 \nL 29.59375 31.296875 \nQ 39.15625 29.25 43.1875 25.515625 \nQ 47.21875 21.78125 47.21875 15.09375 \nQ 47.21875 7.46875 41.1875 3.015625 \nQ 35.15625 -1.421875 24.609375 -1.421875 \nQ 20.21875 -1.421875 15.453125 -0.5625 \nQ 10.6875 0.296875 5.421875 2 \nL 5.421875 11.28125 \nQ 10.40625 8.6875 15.234375 7.390625 \nQ 20.0625 6.109375 24.8125 6.109375 \nQ 31.15625 6.109375 34.5625 8.28125 \nQ 37.984375 10.453125 37.984375 14.40625 \nQ 37.984375 18.0625 35.515625 20.015625 \nQ 33.0625 21.96875 24.703125 23.78125 \nL 21.578125 24.515625 \nQ 13.234375 26.265625 9.515625 29.90625 \nQ 5.8125 33.546875 5.8125 39.890625 \nQ 5.8125 47.609375 11.28125 51.796875 \nQ 16.75 56 26.8125 56 \nQ 31.78125 56 36.171875 55.265625 \nQ 40.578125 54.546875 44.28125 53.078125 \nz\n\" id=\"DejaVuSans-115\"/>\n     <path d=\"M 39.40625 66.21875 \nQ 28.65625 66.21875 22.328125 58.203125 \nQ 16.015625 50.203125 16.015625 36.375 \nQ 16.015625 22.609375 22.328125 14.59375 \nQ 28.65625 6.59375 39.40625 6.59375 \nQ 50.140625 6.59375 56.421875 14.59375 \nQ 62.703125 22.609375 62.703125 36.375 \nQ 62.703125 50.203125 56.421875 58.203125 \nQ 50.140625 66.21875 39.40625 66.21875 \nz\nM 39.40625 74.21875 \nQ 54.734375 74.21875 63.90625 63.9375 \nQ 73.09375 53.65625 73.09375 36.375 \nQ 73.09375 19.140625 63.90625 8.859375 \nQ 54.734375 -1.421875 39.40625 -1.421875 \nQ 24.03125 -1.421875 14.8125 8.828125 \nQ 5.609375 19.09375 5.609375 36.375 \nQ 5.609375 53.65625 14.8125 63.9375 \nQ 24.03125 74.21875 39.40625 74.21875 \nz\n\" id=\"DejaVuSans-79\"/>\n    </defs>\n    <g style=\"fill:#262626;\" transform=\"translate(93.409688 16.318125)scale(0.12 -0.12)\">\n     <use xlink:href=\"#DejaVuSans-83\"/>\n     <use x=\"63.476562\" xlink:href=\"#DejaVuSans-111\"/>\n     <use x=\"124.658203\" xlink:href=\"#DejaVuSans-110\"/>\n     <use x=\"188.037109\" xlink:href=\"#DejaVuSans-103\"/>\n     <use x=\"251.513672\" xlink:href=\"#DejaVuSans-32\"/>\n     <use x=\"283.300781\" xlink:href=\"#DejaVuSans-67\"/>\n     <use x=\"353.125\" xlink:href=\"#DejaVuSans-104\"/>\n     <use x=\"416.503906\" xlink:href=\"#DejaVuSans-97\"/>\n     <use x=\"477.783203\" xlink:href=\"#DejaVuSans-114\"/>\n     <use x=\"518.896484\" xlink:href=\"#DejaVuSans-97\"/>\n     <use x=\"580.175781\" xlink:href=\"#DejaVuSans-99\"/>\n     <use x=\"635.15625\" xlink:href=\"#DejaVuSans-116\"/>\n     <use x=\"674.365234\" xlink:href=\"#DejaVuSans-101\"/>\n     <use x=\"735.888672\" xlink:href=\"#DejaVuSans-114\"/>\n     <use x=\"777.001953\" xlink:href=\"#DejaVuSans-105\"/>\n     <use x=\"804.785156\" xlink:href=\"#DejaVuSans-115\"/>\n     <use x=\"856.884766\" xlink:href=\"#DejaVuSans-116\"/>\n     <use x=\"896.09375\" xlink:href=\"#DejaVuSans-105\"/>\n     <use x=\"923.876953\" xlink:href=\"#DejaVuSans-99\"/>\n     <use x=\"978.857422\" xlink:href=\"#DejaVuSans-115\"/>\n     <use x=\"1030.957031\" xlink:href=\"#DejaVuSans-32\"/>\n     <use x=\"1062.744141\" xlink:href=\"#DejaVuSans-79\"/>\n     <use x=\"1141.455078\" xlink:href=\"#DejaVuSans-118\"/>\n     <use x=\"1200.634766\" xlink:href=\"#DejaVuSans-101\"/>\n     <use x=\"1262.158203\" xlink:href=\"#DejaVuSans-114\"/>\n     <use x=\"1303.271484\" xlink:href=\"#DejaVuSans-32\"/>\n     <use x=\"1335.058594\" xlink:href=\"#DejaVuSans-116\"/>\n     <use x=\"1374.267578\" xlink:href=\"#DejaVuSans-104\"/>\n     <use x=\"1437.646484\" xlink:href=\"#DejaVuSans-101\"/>\n     <use x=\"1499.169922\" xlink:href=\"#DejaVuSans-32\"/>\n     <use x=\"1530.957031\" xlink:href=\"#DejaVuSans-68\"/>\n     <use x=\"1607.958984\" xlink:href=\"#DejaVuSans-101\"/>\n     <use x=\"1669.482422\" xlink:href=\"#DejaVuSans-99\"/>\n     <use x=\"1724.462891\" xlink:href=\"#DejaVuSans-97\"/>\n     <use x=\"1785.742188\" xlink:href=\"#DejaVuSans-100\"/>\n     <use x=\"1849.21875\" xlink:href=\"#DejaVuSans-101\"/>\n     <use x=\"1910.742188\" xlink:href=\"#DejaVuSans-115\"/>\n    </g>\n   </g>\n   <g id=\"legend_1\">\n    <g id=\"patch_7\">\n     <path d=\"M 252.920313 147.743125 \nL 371.58125 147.743125 \nQ 373.58125 147.743125 373.58125 145.743125 \nL 373.58125 29.318125 \nQ 373.58125 27.318125 371.58125 27.318125 \nL 252.920313 27.318125 \nQ 250.920313 27.318125 250.920313 29.318125 \nL 250.920313 145.743125 \nQ 250.920313 147.743125 252.920313 147.743125 \nz\n\" style=\"fill:#eaeaf2;opacity:0.8;stroke:#cccccc;stroke-linejoin:miter;\"/>\n    </g>\n    <g id=\"text_18\">\n     <!-- variable -->\n     <defs>\n      <path d=\"M 48.6875 27.296875 \nQ 48.6875 37.203125 44.609375 42.84375 \nQ 40.53125 48.484375 33.40625 48.484375 \nQ 26.265625 48.484375 22.1875 42.84375 \nQ 18.109375 37.203125 18.109375 27.296875 \nQ 18.109375 17.390625 22.1875 11.75 \nQ 26.265625 6.109375 33.40625 6.109375 \nQ 40.53125 6.109375 44.609375 11.75 \nQ 48.6875 17.390625 48.6875 27.296875 \nz\nM 18.109375 46.390625 \nQ 20.953125 51.265625 25.265625 53.625 \nQ 29.59375 56 35.59375 56 \nQ 45.5625 56 51.78125 48.09375 \nQ 58.015625 40.1875 58.015625 27.296875 \nQ 58.015625 14.40625 51.78125 6.484375 \nQ 45.5625 -1.421875 35.59375 -1.421875 \nQ 29.59375 -1.421875 25.265625 0.953125 \nQ 20.953125 3.328125 18.109375 8.203125 \nL 18.109375 0 \nL 9.078125 0 \nL 9.078125 75.984375 \nL 18.109375 75.984375 \nz\n\" id=\"DejaVuSans-98\"/>\n     </defs>\n     <g style=\"fill:#262626;\" transform=\"translate(292.078906 38.916562)scale(0.1 -0.1)\">\n      <use xlink:href=\"#DejaVuSans-118\"/>\n      <use x=\"59.179688\" xlink:href=\"#DejaVuSans-97\"/>\n      <use x=\"120.458984\" xlink:href=\"#DejaVuSans-114\"/>\n      <use x=\"161.572266\" xlink:href=\"#DejaVuSans-105\"/>\n      <use x=\"189.355469\" xlink:href=\"#DejaVuSans-97\"/>\n      <use x=\"250.634766\" xlink:href=\"#DejaVuSans-98\"/>\n      <use x=\"314.111328\" xlink:href=\"#DejaVuSans-108\"/>\n      <use x=\"341.894531\" xlink:href=\"#DejaVuSans-101\"/>\n     </g>\n    </g>\n    <g id=\"line2d_29\">\n     <path d=\"M 254.920313 50.094688 \nL 274.920313 50.094688 \n\" style=\"fill:none;stroke:#f77189;stroke-linecap:round;stroke-width:1.5;\"/>\n    </g>\n    <g id=\"line2d_30\"/>\n    <g id=\"text_19\">\n     <!-- danceability -->\n     <defs>\n      <path d=\"M 32.171875 -5.078125 \nQ 28.375 -14.84375 24.75 -17.8125 \nQ 21.140625 -20.796875 15.09375 -20.796875 \nL 7.90625 -20.796875 \nL 7.90625 -13.28125 \nL 13.1875 -13.28125 \nQ 16.890625 -13.28125 18.9375 -11.515625 \nQ 21 -9.765625 23.484375 -3.21875 \nL 25.09375 0.875 \nL 2.984375 54.6875 \nL 12.5 54.6875 \nL 29.59375 11.921875 \nL 46.6875 54.6875 \nL 56.203125 54.6875 \nz\n\" id=\"DejaVuSans-121\"/>\n     </defs>\n     <g style=\"fill:#262626;\" transform=\"translate(282.920313 53.594688)scale(0.1 -0.1)\">\n      <use xlink:href=\"#DejaVuSans-100\"/>\n      <use x=\"63.476562\" xlink:href=\"#DejaVuSans-97\"/>\n      <use x=\"124.755859\" xlink:href=\"#DejaVuSans-110\"/>\n      <use x=\"188.134766\" xlink:href=\"#DejaVuSans-99\"/>\n      <use x=\"243.115234\" xlink:href=\"#DejaVuSans-101\"/>\n      <use x=\"304.638672\" xlink:href=\"#DejaVuSans-97\"/>\n      <use x=\"365.917969\" xlink:href=\"#DejaVuSans-98\"/>\n      <use x=\"429.394531\" xlink:href=\"#DejaVuSans-105\"/>\n      <use x=\"457.177734\" xlink:href=\"#DejaVuSans-108\"/>\n      <use x=\"484.960938\" xlink:href=\"#DejaVuSans-105\"/>\n      <use x=\"512.744141\" xlink:href=\"#DejaVuSans-116\"/>\n      <use x=\"551.953125\" xlink:href=\"#DejaVuSans-121\"/>\n     </g>\n    </g>\n    <g id=\"line2d_31\">\n     <path d=\"M 254.920313 64.772813 \nL 274.920313 64.772813 \n\" style=\"fill:none;stroke:#c69432;stroke-linecap:round;stroke-width:1.5;\"/>\n    </g>\n    <g id=\"line2d_32\"/>\n    <g id=\"text_20\">\n     <!-- energy -->\n     <g style=\"fill:#262626;\" transform=\"translate(282.920313 68.272813)scale(0.1 -0.1)\">\n      <use xlink:href=\"#DejaVuSans-101\"/>\n      <use x=\"61.523438\" xlink:href=\"#DejaVuSans-110\"/>\n      <use x=\"124.902344\" xlink:href=\"#DejaVuSans-101\"/>\n      <use x=\"186.425781\" xlink:href=\"#DejaVuSans-114\"/>\n      <use x=\"225.789062\" xlink:href=\"#DejaVuSans-103\"/>\n      <use x=\"289.265625\" xlink:href=\"#DejaVuSans-121\"/>\n     </g>\n    </g>\n    <g id=\"line2d_33\">\n     <path d=\"M 254.920313 79.450938 \nL 274.920313 79.450938 \n\" style=\"fill:none;stroke:#82a931;stroke-linecap:round;stroke-width:1.5;\"/>\n    </g>\n    <g id=\"line2d_34\"/>\n    <g id=\"text_21\">\n     <!-- instrumentalness -->\n     <defs>\n      <path d=\"M 52 44.1875 \nQ 55.375 50.25 60.0625 53.125 \nQ 64.75 56 71.09375 56 \nQ 79.640625 56 84.28125 50.015625 \nQ 88.921875 44.046875 88.921875 33.015625 \nL 88.921875 0 \nL 79.890625 0 \nL 79.890625 32.71875 \nQ 79.890625 40.578125 77.09375 44.375 \nQ 74.3125 48.1875 68.609375 48.1875 \nQ 61.625 48.1875 57.5625 43.546875 \nQ 53.515625 38.921875 53.515625 30.90625 \nL 53.515625 0 \nL 44.484375 0 \nL 44.484375 32.71875 \nQ 44.484375 40.625 41.703125 44.40625 \nQ 38.921875 48.1875 33.109375 48.1875 \nQ 26.21875 48.1875 22.15625 43.53125 \nQ 18.109375 38.875 18.109375 30.90625 \nL 18.109375 0 \nL 9.078125 0 \nL 9.078125 54.6875 \nL 18.109375 54.6875 \nL 18.109375 46.1875 \nQ 21.1875 51.21875 25.484375 53.609375 \nQ 29.78125 56 35.6875 56 \nQ 41.65625 56 45.828125 52.96875 \nQ 50 49.953125 52 44.1875 \nz\n\" id=\"DejaVuSans-109\"/>\n     </defs>\n     <g style=\"fill:#262626;\" transform=\"translate(282.920313 82.950938)scale(0.1 -0.1)\">\n      <use xlink:href=\"#DejaVuSans-105\"/>\n      <use x=\"27.783203\" xlink:href=\"#DejaVuSans-110\"/>\n      <use x=\"91.162109\" xlink:href=\"#DejaVuSans-115\"/>\n      <use x=\"143.261719\" xlink:href=\"#DejaVuSans-116\"/>\n      <use x=\"182.470703\" xlink:href=\"#DejaVuSans-114\"/>\n      <use x=\"223.583984\" xlink:href=\"#DejaVuSans-117\"/>\n      <use x=\"286.962891\" xlink:href=\"#DejaVuSans-109\"/>\n      <use x=\"384.375\" xlink:href=\"#DejaVuSans-101\"/>\n      <use x=\"445.898438\" xlink:href=\"#DejaVuSans-110\"/>\n      <use x=\"509.277344\" xlink:href=\"#DejaVuSans-116\"/>\n      <use x=\"548.486328\" xlink:href=\"#DejaVuSans-97\"/>\n      <use x=\"609.765625\" xlink:href=\"#DejaVuSans-108\"/>\n      <use x=\"637.548828\" xlink:href=\"#DejaVuSans-110\"/>\n      <use x=\"700.927734\" xlink:href=\"#DejaVuSans-101\"/>\n      <use x=\"762.451172\" xlink:href=\"#DejaVuSans-115\"/>\n      <use x=\"814.550781\" xlink:href=\"#DejaVuSans-115\"/>\n     </g>\n    </g>\n    <g id=\"line2d_35\">\n     <path d=\"M 254.920313 94.129063 \nL 274.920313 94.129063 \n\" style=\"fill:none;stroke:#34af8a;stroke-linecap:round;stroke-width:1.5;\"/>\n    </g>\n    <g id=\"line2d_36\"/>\n    <g id=\"text_22\">\n     <!-- valence -->\n     <g style=\"fill:#262626;\" transform=\"translate(282.920313 97.629063)scale(0.1 -0.1)\">\n      <use xlink:href=\"#DejaVuSans-118\"/>\n      <use x=\"59.179688\" xlink:href=\"#DejaVuSans-97\"/>\n      <use x=\"120.458984\" xlink:href=\"#DejaVuSans-108\"/>\n      <use x=\"148.242188\" xlink:href=\"#DejaVuSans-101\"/>\n      <use x=\"209.765625\" xlink:href=\"#DejaVuSans-110\"/>\n      <use x=\"273.144531\" xlink:href=\"#DejaVuSans-99\"/>\n      <use x=\"328.125\" xlink:href=\"#DejaVuSans-101\"/>\n     </g>\n    </g>\n    <g id=\"line2d_37\">\n     <path d=\"M 254.920313 108.807188 \nL 274.920313 108.807188 \n\" style=\"fill:none;stroke:#37aabb;stroke-linecap:round;stroke-width:1.5;\"/>\n    </g>\n    <g id=\"line2d_38\"/>\n    <g id=\"text_23\">\n     <!-- liveliness -->\n     <g style=\"fill:#262626;\" transform=\"translate(282.920313 112.307188)scale(0.1 -0.1)\">\n      <use xlink:href=\"#DejaVuSans-108\"/>\n      <use x=\"27.783203\" xlink:href=\"#DejaVuSans-105\"/>\n      <use x=\"55.566406\" xlink:href=\"#DejaVuSans-118\"/>\n      <use x=\"114.746094\" xlink:href=\"#DejaVuSans-101\"/>\n      <use x=\"176.269531\" xlink:href=\"#DejaVuSans-108\"/>\n      <use x=\"204.052734\" xlink:href=\"#DejaVuSans-105\"/>\n      <use x=\"231.835938\" xlink:href=\"#DejaVuSans-110\"/>\n      <use x=\"295.214844\" xlink:href=\"#DejaVuSans-101\"/>\n      <use x=\"356.738281\" xlink:href=\"#DejaVuSans-115\"/>\n      <use x=\"408.837891\" xlink:href=\"#DejaVuSans-115\"/>\n     </g>\n    </g>\n    <g id=\"line2d_39\">\n     <path d=\"M 254.920313 123.485313 \nL 274.920313 123.485313 \n\" style=\"fill:none;stroke:#8197f4;stroke-linecap:round;stroke-width:1.5;\"/>\n    </g>\n    <g id=\"line2d_40\"/>\n    <g id=\"text_24\">\n     <!-- speechiness -->\n     <defs>\n      <path d=\"M 18.109375 8.203125 \nL 18.109375 -20.796875 \nL 9.078125 -20.796875 \nL 9.078125 54.6875 \nL 18.109375 54.6875 \nL 18.109375 46.390625 \nQ 20.953125 51.265625 25.265625 53.625 \nQ 29.59375 56 35.59375 56 \nQ 45.5625 56 51.78125 48.09375 \nQ 58.015625 40.1875 58.015625 27.296875 \nQ 58.015625 14.40625 51.78125 6.484375 \nQ 45.5625 -1.421875 35.59375 -1.421875 \nQ 29.59375 -1.421875 25.265625 0.953125 \nQ 20.953125 3.328125 18.109375 8.203125 \nz\nM 48.6875 27.296875 \nQ 48.6875 37.203125 44.609375 42.84375 \nQ 40.53125 48.484375 33.40625 48.484375 \nQ 26.265625 48.484375 22.1875 42.84375 \nQ 18.109375 37.203125 18.109375 27.296875 \nQ 18.109375 17.390625 22.1875 11.75 \nQ 26.265625 6.109375 33.40625 6.109375 \nQ 40.53125 6.109375 44.609375 11.75 \nQ 48.6875 17.390625 48.6875 27.296875 \nz\n\" id=\"DejaVuSans-112\"/>\n     </defs>\n     <g style=\"fill:#262626;\" transform=\"translate(282.920313 126.985313)scale(0.1 -0.1)\">\n      <use xlink:href=\"#DejaVuSans-115\"/>\n      <use x=\"52.099609\" xlink:href=\"#DejaVuSans-112\"/>\n      <use x=\"115.576172\" xlink:href=\"#DejaVuSans-101\"/>\n      <use x=\"177.099609\" xlink:href=\"#DejaVuSans-101\"/>\n      <use x=\"238.623047\" xlink:href=\"#DejaVuSans-99\"/>\n      <use x=\"293.603516\" xlink:href=\"#DejaVuSans-104\"/>\n      <use x=\"356.982422\" xlink:href=\"#DejaVuSans-105\"/>\n      <use x=\"384.765625\" xlink:href=\"#DejaVuSans-110\"/>\n      <use x=\"448.144531\" xlink:href=\"#DejaVuSans-101\"/>\n      <use x=\"509.667969\" xlink:href=\"#DejaVuSans-115\"/>\n      <use x=\"561.767578\" xlink:href=\"#DejaVuSans-115\"/>\n     </g>\n    </g>\n    <g id=\"line2d_41\">\n     <path d=\"M 254.920313 138.163438 \nL 274.920313 138.163438 \n\" style=\"fill:none;stroke:#f45deb;stroke-linecap:round;stroke-width:1.5;\"/>\n    </g>\n    <g id=\"line2d_42\"/>\n    <g id=\"text_25\">\n     <!-- acoustics -->\n     <g style=\"fill:#262626;\" transform=\"translate(282.920313 141.663438)scale(0.1 -0.1)\">\n      <use xlink:href=\"#DejaVuSans-97\"/>\n      <use x=\"61.279297\" xlink:href=\"#DejaVuSans-99\"/>\n      <use x=\"116.259766\" xlink:href=\"#DejaVuSans-111\"/>\n      <use x=\"177.441406\" xlink:href=\"#DejaVuSans-117\"/>\n      <use x=\"240.820312\" xlink:href=\"#DejaVuSans-115\"/>\n      <use x=\"292.919922\" xlink:href=\"#DejaVuSans-116\"/>\n      <use x=\"332.128906\" xlink:href=\"#DejaVuSans-105\"/>\n      <use x=\"359.912109\" xlink:href=\"#DejaVuSans-99\"/>\n      <use x=\"414.892578\" xlink:href=\"#DejaVuSans-115\"/>\n     </g>\n    </g>\n   </g>\n  </g>\n </g>\n <defs>\n  <clipPath id=\"pe4d74ff5c1\">\n   <rect height=\"217.44\" width=\"334.8\" x=\"43.78125\" y=\"22.318125\"/>\n  </clipPath>\n </defs>\n</svg>\n",
            "text/plain": [
              "<Figure size 432x288 with 1 Axes>"
            ]
          },
          "metadata": {},
          "output_type": "display_data"
        }
      ]
    },
    {
      "cell_type": "markdown",
      "source": [
        "# New Section"
      ],
      "metadata": {
        "id": "eu4dFb6NcOLW"
      }
    },
    {
      "cell_type": "code",
      "source": [
        "df"
      ],
      "metadata": {
        "colab": {
          "base_uri": "https://localhost:8080/",
          "height": 171
        },
        "id": "gTusBMbzLrbT",
        "outputId": "359a2a60-e3b5-4922-db81-424895cfd862"
      },
      "execution_count": 1,
      "outputs": [
        {
          "output_type": "error",
          "ename": "NameError",
          "evalue": "ignored",
          "traceback": [
            "\u001b[0;31m---------------------------------------------------------------------------\u001b[0m",
            "\u001b[0;31mNameError\u001b[0m                                 Traceback (most recent call last)",
            "\u001b[0;32m<ipython-input-1-00cf07b74dcd>\u001b[0m in \u001b[0;36m<module>\u001b[0;34m()\u001b[0m\n\u001b[0;32m----> 1\u001b[0;31m \u001b[0mdf\u001b[0m\u001b[0;34m\u001b[0m\u001b[0;34m\u001b[0m\u001b[0m\n\u001b[0m",
            "\u001b[0;31mNameError\u001b[0m: name 'df' is not defined"
          ]
        }
      ]
    },
    {
      "cell_type": "code",
      "source": [
        "# ! install kaggle_secrets"
      ],
      "metadata": {
        "id": "I6a8RTFtGfaf"
      },
      "execution_count": null,
      "outputs": []
    },
    {
      "cell_type": "code",
      "source": [
        "# from kaggle_secrets import UserSecretsClient\n",
        "# user_secrets = UserSecretsClient()\n",
        "# SPOTIFY_CLIENT_ID = user_secrets.get_secret(\"SPOTIFY_CLIENT_ID\")\n",
        "# SPOTIFY_CLIENT_SECRET = user_secrets.get_secret(\"SPOTIFY_CLIENT_SECRET\")"
      ],
      "metadata": {
        "id": "ouIa7gF-Eugm",
        "colab": {
          "base_uri": "https://localhost:8080/",
          "height": 370
        },
        "outputId": "b13e0160-fb42-4de7-c0ab-771b24beb2f0"
      },
      "execution_count": null,
      "outputs": [
        {
          "output_type": "error",
          "ename": "ModuleNotFoundError",
          "evalue": "ignored",
          "traceback": [
            "\u001b[0;31m---------------------------------------------------------------------------\u001b[0m",
            "\u001b[0;31mModuleNotFoundError\u001b[0m                       Traceback (most recent call last)",
            "\u001b[0;32m<ipython-input-34-778390d76aef>\u001b[0m in \u001b[0;36m<module>\u001b[0;34m()\u001b[0m\n\u001b[0;32m----> 1\u001b[0;31m \u001b[0;32mfrom\u001b[0m \u001b[0mkaggle_secrets\u001b[0m \u001b[0;32mimport\u001b[0m \u001b[0mUserSecretsClient\u001b[0m\u001b[0;34m\u001b[0m\u001b[0;34m\u001b[0m\u001b[0m\n\u001b[0m\u001b[1;32m      2\u001b[0m \u001b[0muser_secrets\u001b[0m \u001b[0;34m=\u001b[0m \u001b[0mUserSecretsClient\u001b[0m\u001b[0;34m(\u001b[0m\u001b[0;34m)\u001b[0m\u001b[0;34m\u001b[0m\u001b[0;34m\u001b[0m\u001b[0m\n\u001b[1;32m      3\u001b[0m \u001b[0mSPOTIFY_CLIENT_ID\u001b[0m \u001b[0;34m=\u001b[0m \u001b[0muser_secrets\u001b[0m\u001b[0;34m.\u001b[0m\u001b[0mget_secret\u001b[0m\u001b[0;34m(\u001b[0m\u001b[0;34m\"SPOTIFY_CLIENT_ID\"\u001b[0m\u001b[0;34m)\u001b[0m\u001b[0;34m\u001b[0m\u001b[0;34m\u001b[0m\u001b[0m\n\u001b[1;32m      4\u001b[0m \u001b[0mSPOTIFY_CLIENT_SECRET\u001b[0m \u001b[0;34m=\u001b[0m \u001b[0muser_secrets\u001b[0m\u001b[0;34m.\u001b[0m\u001b[0mget_secret\u001b[0m\u001b[0;34m(\u001b[0m\u001b[0;34m\"SPOTIFY_CLIENT_SECRET\"\u001b[0m\u001b[0;34m)\u001b[0m\u001b[0;34m\u001b[0m\u001b[0;34m\u001b[0m\u001b[0m\n",
            "\u001b[0;31mModuleNotFoundError\u001b[0m: No module named 'kaggle_secrets'",
            "",
            "\u001b[0;31m---------------------------------------------------------------------------\u001b[0;32m\nNOTE: If your import is failing due to a missing package, you can\nmanually install dependencies using either !pip or !apt.\n\nTo view examples of installing some common dependencies, click the\n\"Open Examples\" button below.\n\u001b[0;31m---------------------------------------------------------------------------\u001b[0m\n"
          ],
          "errorDetails": {
            "actions": [
              {
                "action": "open_url",
                "actionText": "Open Examples",
                "url": "/notebooks/snippets/importing_libraries.ipynb"
              }
            ]
          }
        }
      ]
    }
  ]
}